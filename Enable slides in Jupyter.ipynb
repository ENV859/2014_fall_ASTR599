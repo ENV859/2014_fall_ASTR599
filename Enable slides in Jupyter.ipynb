{
 "cells": [
  {
   "cell_type": "markdown",
   "metadata": {},
   "source": [
    "## Enable slide mode in Jupyter\n",
    "See https://github.com/damianavila/RISE/blob/master/README.md for more info. \n",
    "\n",
    "After running the code below. Stop and restart the Jupyter notebook console."
   ]
  },
  {
   "cell_type": "code",
   "execution_count": null,
   "metadata": {},
   "outputs": [],
   "source": [
    "import pip\n",
    "pip.main(['install','RISE'])"
   ]
  },
  {
   "cell_type": "code",
   "execution_count": 6,
   "metadata": {},
   "outputs": [
    {
     "data": {
      "text/plain": [
       "0"
      ]
     },
     "execution_count": 6,
     "metadata": {},
     "output_type": "execute_result"
    }
   ],
   "source": [
    "import subprocess as cmd\n",
    "cmd.call(\"C:/python27/ArcGIS10.5/scripts/jupyter-nbextension install rise --py --sys-prefix\")\n",
    "cmd.call(\"C:/python27/ArcGIS10.5/scripts/jupyter-nbextension enable rise --py --sys-prefix\")"
   ]
  }
 ],
 "metadata": {
  "kernelspec": {
   "display_name": "Python 2",
   "language": "python",
   "name": "python2"
  },
  "language_info": {
   "codemirror_mode": {
    "name": "ipython",
    "version": 2
   },
   "file_extension": ".py",
   "mimetype": "text/x-python",
   "name": "python",
   "nbconvert_exporter": "python",
   "pygments_lexer": "ipython2",
   "version": "2.7.13"
  }
 },
 "nbformat": 4,
 "nbformat_minor": 2
}
