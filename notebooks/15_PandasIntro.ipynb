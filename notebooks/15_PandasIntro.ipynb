{
 "metadata": {
  "name": "",
  "signature": "sha256:c7f4cf438a7b8480690950a9e7cf92efa4882de9590d3fb7d5e9a03707e5e3f2"
 },
 "nbformat": 3,
 "nbformat_minor": 0,
 "worksheets": [
  {
   "cells": [
    {
     "cell_type": "code",
     "collapsed": false,
     "input": [
      "import pandas as pd, seaborn as sns, numpy as np\n",
      "sns.set(font='Bitstream Vera Sans')\n",
      "sns.set_context('poster', {'figsize':(12,8)})\n",
      "\n",
      "pd.options.display.max_rows = 8\n",
      "\n",
      "%matplotlib inline\n",
      "\n",
      "%cd ~/2014_fall_ASTR599/notebooks/\n",
      "%run talktools.py\n",
      "%cd ~/notebook/\n"
     ],
     "language": "python",
     "metadata": {
      "internals": {
       "slide_helper": "subslide_end",
       "slide_type": "subslide"
      },
      "slide_helper": "slide_end",
      "slideshow": {
       "slide_type": "slide"
      },
      "trusted": true
     },
     "outputs": [
      {
       "output_type": "stream",
       "stream": "stdout",
       "text": [
        "[Errno 2] No such file or directory: '/Users/jakevdp/2014_fall_ASTR599/notebooks/'\n",
        "/Users/jakevdp/Opensource/2014_fall_ASTR599/notebooks\n"
       ]
      },
      {
       "html": [
        "<style>\n",
        "div.cell, div.text_cell_render{\n",
        "  max-width:750px;\n",
        "  margin-left:auto;\n",
        "  margin-right:auto;\n",
        "}\n",
        "\n",
        ".rendered_html\n",
        "{\n",
        "  font-size: 140%;\n",
        "  }\n",
        "\n",
        ".rendered_html li\n",
        "{\n",
        "  line-height: 1.8;\n",
        "  }\n",
        "\n",
        ".rendered_html h1, h2 {\n",
        "  text-align:center;\n",
        "  font-familly:\"Charis SIL\", serif;\n",
        "}\n",
        "</style>"
       ],
       "metadata": {},
       "output_type": "display_data",
       "text": [
        "<IPython.core.display.HTML at 0x1096d8210>"
       ]
      },
      {
       "output_type": "stream",
       "stream": "stdout",
       "text": [
        "[Errno 2] No such file or directory: '/Users/jakevdp/notebook/'\n",
        "/Users/jakevdp/Opensource/2014_fall_ASTR599/notebooks\n"
       ]
      }
     ],
     "prompt_number": 1
    },
    {
     "cell_type": "markdown",
     "metadata": {
      "internals": {
       "slide_type": "subslide"
      },
      "slideshow": {
       "slide_type": "slide"
      }
     },
     "source": [
      "<img  src=\"images/B2NHU4LP1KDE0UB8R2T8JR8M4F7LSMHA.png\"/>"
     ]
    },
    {
     "cell_type": "markdown",
     "metadata": {
      "internals": {
       "slide_helper": "subslide_end"
      },
      "slide_helper": "slide_end",
      "slideshow": {
       "slide_type": "skip"
      }
     },
     "source": [
      "<small><i>This notebook was put together by [Abraham Flaxman](http://www.math.cmu.edu/~adf/) for UW's [Astro 599](http://www.astro.washington.edu/users/vanderplas/Astr599_2014/) course. Source and license info is on [GitHub](https://github.com/jakevdp/2014_fall_ASTR599/).</i></small>"
     ]
    },
    {
     "cell_type": "markdown",
     "metadata": {
      "internals": {
       "slide_helper": "subslide_end",
       "slide_type": "subslide"
      },
      "slide_helper": "slide_end",
      "slideshow": {
       "slide_type": "slide"
      }
     },
     "source": [
      "<img  src=\"images/CGW6H8IGLQHWOPC02QI3IHFWWPL1LK7X.png\"/>"
     ]
    },
    {
     "cell_type": "code",
     "collapsed": false,
     "input": [
      "import pandas as pd"
     ],
     "language": "python",
     "metadata": {
      "internals": {
       "slide_helper": "subslide_end",
       "slide_type": "subslide"
      },
      "slide_helper": "slide_end",
      "slideshow": {
       "slide_type": "slide"
      },
      "trusted": true
     },
     "outputs": [],
     "prompt_number": 2
    },
    {
     "cell_type": "markdown",
     "metadata": {
      "internals": {
       "slide_type": "subslide"
      },
      "slideshow": {
       "slide_type": "slide"
      }
     },
     "source": [
      "# big data?"
     ]
    },
    {
     "cell_type": "markdown",
     "metadata": {
      "internals": {
       "frag_number": 6,
       "slide_helper": "subslide_end"
      },
      "slide_helper": "slide_end",
      "slideshow": {
       "slide_type": "fragment"
      }
     },
     "source": [
      "# _medium data_"
     ]
    },
    {
     "cell_type": "markdown",
     "metadata": {
      "internals": {
       "frag_helper": "fragment_end",
       "frag_number": 6,
       "slide_helper": "subslide_end",
       "slide_type": "subslide"
      },
      "slide_helper": "slide_end",
      "slideshow": {
       "slide_type": "slide"
      }
     },
     "source": [
      "# learning objectives:\n",
      "\n",
      "* know that `pandas` exists --- tool for manipulating medium sized tabular data\n",
      "* know how to learn more about `pandas`\n",
      "* get some hands on experience with the `pandas.DataFrame` for data manipulation\n"
     ]
    },
    {
     "cell_type": "markdown",
     "metadata": {
      "internals": {
       "frag_helper": "fragment_end",
       "frag_number": 6,
       "slide_helper": "subslide_end",
       "slide_type": "subslide"
      },
      "slide_helper": "slide_end",
      "slideshow": {
       "slide_type": "slide"
      }
     },
     "source": [
      "# pandas exists"
     ]
    },
    {
     "cell_type": "markdown",
     "metadata": {
      "internals": {
       "frag_helper": "fragment_end",
       "frag_number": 6,
       "slide_helper": "subslide_end",
       "slide_type": "subslide"
      },
      "slide_helper": "slide_end",
      "slideshow": {
       "slide_type": "slide"
      }
     },
     "source": [
      "<img  src=\"images/SOL8DX09TVRULMWQMOCBC8ME4XT87BNV.png\"/>"
     ]
    },
    {
     "cell_type": "markdown",
     "metadata": {
      "internals": {
       "frag_helper": "fragment_end",
       "frag_number": 6,
       "slide_type": "subslide"
      },
      "slideshow": {
       "slide_type": "slide"
      }
     },
     "source": [
      "<img  src=\"images/HN4JRMW8W5G5PIIT4ITKKT46FQTXSD69.png\"/>"
     ]
    },
    {
     "cell_type": "markdown",
     "metadata": {
      "internals": {
       "frag_helper": "fragment_end",
       "frag_number": 6,
       "slide_helper": "subslide_end"
      },
      "slide_helper": "slide_end",
      "slideshow": {
       "slide_type": "-"
      }
     },
     "source": [
      "(from https://www.openhub.net/p/py-pandas)"
     ]
    },
    {
     "cell_type": "code",
     "collapsed": false,
     "input": [
      "import pandas as pd  # we did this already!\n",
      "# did it work?"
     ],
     "language": "python",
     "metadata": {
      "internals": {
       "frag_helper": "fragment_end",
       "frag_number": 6,
       "slide_type": "subslide"
      },
      "slideshow": {
       "slide_type": "slide"
      },
      "trusted": true
     },
     "outputs": [],
     "prompt_number": 3
    },
    {
     "cell_type": "code",
     "collapsed": false,
     "input": [
      "pd.__version__"
     ],
     "language": "python",
     "metadata": {
      "internals": {
       "frag_helper": "fragment_end",
       "frag_number": 13,
       "slide_helper": "subslide_end"
      },
      "slide_helper": "slide_end",
      "slideshow": {
       "slide_type": "fragment"
      },
      "trusted": true
     },
     "outputs": [
      {
       "metadata": {},
       "output_type": "pyout",
       "prompt_number": 4,
       "text": [
        "'0.14.1'"
       ]
      }
     ],
     "prompt_number": 4
    },
    {
     "cell_type": "markdown",
     "metadata": {
      "internals": {
       "frag_helper": "fragment_end",
       "frag_number": 13,
       "slide_helper": "subslide_end",
       "slide_type": "subslide"
      },
      "slide_helper": "slide_end",
      "slideshow": {
       "slide_type": "slide"
      }
     },
     "source": [
      "# how to learn more"
     ]
    },
    {
     "cell_type": "markdown",
     "metadata": {
      "internals": {
       "frag_helper": "fragment_end",
       "frag_number": 13,
       "slide_helper": "subslide_end",
       "slide_type": "subslide"
      },
      "slide_helper": "slide_end",
      "slideshow": {
       "slide_type": "slide"
      }
     },
     "source": [
      "<img  src=\"images/T6U2N4L8YCHYP8DUPYP3Q5JGP032OS0H.png\"/>"
     ]
    },
    {
     "cell_type": "markdown",
     "metadata": {
      "internals": {
       "frag_helper": "fragment_end",
       "frag_number": 13,
       "slide_helper": "subslide_end",
       "slide_type": "subslide"
      },
      "slide_helper": "slide_end",
      "slideshow": {
       "slide_type": "slide"
      }
     },
     "source": [
      "<img  src=\"images/QW3S6OHBBTEIEXPYM2R1MTENRQSFHN74.png\"/>"
     ]
    },
    {
     "cell_type": "markdown",
     "metadata": {
      "internals": {
       "frag_helper": "fragment_end",
       "frag_number": 13,
       "slide_helper": "subslide_end",
       "slide_type": "subslide"
      },
      "slide_helper": "slide_end",
      "slideshow": {
       "slide_type": "slide"
      }
     },
     "source": [
      "<img  src=\"images/TYY50IRLI2QFI0NEB1WJQ76AGVMVVDGR.png\"/>"
     ]
    },
    {
     "cell_type": "code",
     "collapsed": false,
     "input": [
      "pd.DataFrame([shift-tab]"
     ],
     "language": "python",
     "metadata": {
      "internals": {
       "frag_helper": "fragment_end",
       "frag_number": 13,
       "slide_helper": "subslide_end",
       "slide_type": "subslide"
      },
      "slide_helper": "slide_end",
      "slideshow": {
       "slide_type": "slide"
      },
      "trusted": true
     },
     "outputs": []
    },
    {
     "cell_type": "markdown",
     "metadata": {
      "internals": {
       "frag_helper": "fragment_end",
       "frag_number": 13,
       "slide_helper": "subslide_end",
       "slide_type": "subslide"
      },
      "slide_helper": "slide_end",
      "slideshow": {
       "slide_type": "slide"
      }
     },
     "source": [
      "# hands on experience\n",
      "\n",
      "* making `DataFrames`\n",
      "* using tabular data\n",
      "* reshaping tables\n",
      "* combining tables\n",
      "* grouping, mapping, and applying\n",
      "* dealing with date and time data\n"
     ]
    },
    {
     "cell_type": "markdown",
     "metadata": {
      "internals": {
       "frag_helper": "fragment_end",
       "frag_number": 13,
       "slide_type": "subslide"
      },
      "slideshow": {
       "slide_type": "slide"
      }
     },
     "source": [
      "# making `DataFrames`"
     ]
    },
    {
     "cell_type": "code",
     "collapsed": false,
     "input": [
      "# loading a csv\n",
      "df = pd.read_csv(fname)"
     ],
     "language": "python",
     "metadata": {
      "internals": {
       "frag_helper": "fragment_end",
       "frag_number": 21
      },
      "slideshow": {
       "slide_type": "fragment"
      },
      "trusted": true
     },
     "outputs": [
      {
       "ename": "NameError",
       "evalue": "name 'fname' is not defined",
       "output_type": "pyerr",
       "traceback": [
        "\u001b[0;31m---------------------------------------------------------------------------\u001b[0m\n\u001b[0;31mNameError\u001b[0m                                 Traceback (most recent call last)",
        "\u001b[0;32m<ipython-input-6-30775157dcae>\u001b[0m in \u001b[0;36m<module>\u001b[0;34m()\u001b[0m\n\u001b[1;32m      1\u001b[0m \u001b[0;31m# loading a csv\u001b[0m\u001b[0;34m\u001b[0m\u001b[0;34m\u001b[0m\u001b[0m\n\u001b[0;32m----> 2\u001b[0;31m \u001b[0mdf\u001b[0m \u001b[0;34m=\u001b[0m \u001b[0mpd\u001b[0m\u001b[0;34m.\u001b[0m\u001b[0mread_csv\u001b[0m\u001b[0;34m(\u001b[0m\u001b[0mfname\u001b[0m\u001b[0;34m)\u001b[0m\u001b[0;34m\u001b[0m\u001b[0m\n\u001b[0m",
        "\u001b[0;31mNameError\u001b[0m: name 'fname' is not defined"
       ]
      }
     ],
     "prompt_number": 6
    },
    {
     "cell_type": "code",
     "collapsed": false,
     "input": [
      "# loading an excel file\n",
      "df = pd.read_[tab]"
     ],
     "language": "python",
     "metadata": {
      "internals": {
       "frag_helper": "fragment_end",
       "frag_number": 22
      },
      "slideshow": {
       "slide_type": "fragment"
      },
      "trusted": true
     },
     "outputs": []
    },
    {
     "cell_type": "code",
     "collapsed": false,
     "input": [
      "# loading a stata file\n",
      "df = pd.read_"
     ],
     "language": "python",
     "metadata": {
      "internals": {
       "frag_helper": "fragment_end",
       "frag_number": 23,
       "slide_helper": "subslide_end"
      },
      "slide_helper": "slide_end",
      "slideshow": {
       "slide_type": "fragment"
      },
      "trusted": true
     },
     "outputs": []
    },
    {
     "cell_type": "markdown",
     "metadata": {
      "internals": {
       "frag_helper": "fragment_end",
       "frag_number": 23,
       "slide_type": "subslide"
      },
      "slideshow": {
       "slide_type": "slide"
      }
     },
     "source": [
      "# making `DataFrames` from scratch"
     ]
    },
    {
     "cell_type": "code",
     "collapsed": true,
     "input": [
      "df = pd.DataFrame({'a': [10,20,30],\n",
      "                   'b': [40,50,60]})"
     ],
     "language": "python",
     "metadata": {
      "internals": {
       "frag_helper": "fragment_end",
       "frag_number": 23
      },
      "slideshow": {
       "slide_type": "-"
      },
      "trusted": true
     },
     "outputs": [],
     "prompt_number": 7
    },
    {
     "cell_type": "code",
     "collapsed": false,
     "input": [
      "df"
     ],
     "language": "python",
     "metadata": {
      "internals": {
       "frag_helper": "fragment_end",
       "frag_number": 26,
       "slide_helper": "subslide_end"
      },
      "slide_helper": "slide_end",
      "slideshow": {
       "slide_type": "fragment"
      },
      "trusted": true
     },
     "outputs": [
      {
       "html": [
        "<div style=\"max-height:1000px;max-width:1500px;overflow:auto;\">\n",
        "<table border=\"1\" class=\"dataframe\">\n",
        "  <thead>\n",
        "    <tr style=\"text-align: right;\">\n",
        "      <th></th>\n",
        "      <th>a</th>\n",
        "      <th>b</th>\n",
        "    </tr>\n",
        "  </thead>\n",
        "  <tbody>\n",
        "    <tr>\n",
        "      <th>0</th>\n",
        "      <td> 10</td>\n",
        "      <td> 40</td>\n",
        "    </tr>\n",
        "    <tr>\n",
        "      <th>1</th>\n",
        "      <td> 20</td>\n",
        "      <td> 50</td>\n",
        "    </tr>\n",
        "    <tr>\n",
        "      <th>2</th>\n",
        "      <td> 30</td>\n",
        "      <td> 60</td>\n",
        "    </tr>\n",
        "  </tbody>\n",
        "</table>\n",
        "</div>"
       ],
       "metadata": {},
       "output_type": "pyout",
       "prompt_number": 8,
       "text": [
        "    a   b\n",
        "0  10  40\n",
        "1  20  50\n",
        "2  30  60"
       ]
      }
     ],
     "prompt_number": 8
    },
    {
     "cell_type": "code",
     "collapsed": false,
     "input": [
      "# think of DataFrames as numpy arrays plus\n",
      "df.columns\n",
      "df.index\n",
      "df.b.index is df.index"
     ],
     "language": "python",
     "metadata": {
      "internals": {
       "frag_helper": "fragment_end",
       "frag_number": 26,
       "slide_helper": "subslide_end",
       "slide_type": "subslide"
      },
      "slide_helper": "slide_end",
      "slideshow": {
       "slide_type": "slide"
      },
      "trusted": true
     },
     "outputs": [
      {
       "metadata": {},
       "output_type": "pyout",
       "prompt_number": 18,
       "text": [
        "True"
       ]
      }
     ],
     "prompt_number": 18
    },
    {
     "cell_type": "markdown",
     "metadata": {
      "internals": {
       "frag_helper": "fragment_end",
       "frag_number": 26,
       "slide_helper": "subslide_end",
       "slide_type": "subslide"
      },
      "slide_helper": "slide_end",
      "slideshow": {
       "slide_type": "slide"
      }
     },
     "source": [
      "# questions?"
     ]
    },
    {
     "cell_type": "markdown",
     "metadata": {
      "internals": {
       "frag_helper": "fragment_end",
       "frag_number": 26,
       "slide_helper": "subslide_end",
       "slide_type": "subslide"
      },
      "slide_helper": "slide_end",
      "slideshow": {
       "slide_type": "slide"
      }
     },
     "source": [
      "# aside: global health"
     ]
    },
    {
     "cell_type": "markdown",
     "metadata": {
      "internals": {
       "frag_helper": "fragment_end",
       "frag_number": 26,
       "slide_helper": "subslide_end",
       "slide_type": "subslide"
      },
      "slide_helper": "slide_end",
      "slideshow": {
       "slide_type": "slide"
      }
     },
     "source": [
      "<img  src=\"images/RAE0KN24ST7JHKGGF420DR34GMC1E0P0.png\"/>"
     ]
    },
    {
     "cell_type": "markdown",
     "metadata": {
      "internals": {
       "frag_helper": "fragment_end",
       "frag_number": 26,
       "slide_helper": "subslide_end",
       "slide_type": "subslide"
      },
      "slide_helper": "slide_end",
      "slideshow": {
       "slide_type": "slide"
      }
     },
     "source": [
      "<img  src=\"images/QU492YINQI71G6O2G22E74C91WHQ231I.png\"/>"
     ]
    },
    {
     "cell_type": "markdown",
     "metadata": {
      "internals": {
       "frag_helper": "fragment_end",
       "frag_number": 26,
       "slide_helper": "subslide_end",
       "slide_type": "subslide"
      },
      "slide_helper": "slide_end",
      "slideshow": {
       "slide_type": "slide"
      }
     },
     "source": [
      "# our running example"
     ]
    },
    {
     "cell_type": "markdown",
     "metadata": {
      "internals": {
       "frag_helper": "fragment_end",
       "frag_number": 26,
       "slide_type": "subslide"
      },
      "slideshow": {
       "slide_type": "slide"
      }
     },
     "source": [
      "From [Global Health Data Exchange](http://ghdx.healthdata.org/record/population-health-metrics-research-consortium-gold-standard-verbal-autopsy-data-2005-2011), load PHMRC VA adult data, CSV format:"
     ]
    },
    {
     "cell_type": "code",
     "collapsed": false,
     "input": [
      "url = 'http://ghdx.healthdata.org/sites/default/files/'\\\n",
      "      'record-attached-files/IHME_PHMRC_VA_DATA_ADULT_Y2013M09D11_0.csv'"
     ],
     "language": "python",
     "metadata": {
      "internals": {
       "frag_helper": "fragment_end",
       "frag_number": 26
      },
      "slideshow": {
       "slide_type": "-"
      },
      "trusted": true
     },
     "outputs": [],
     "prompt_number": 19
    },
    {
     "cell_type": "code",
     "collapsed": false,
     "input": [
      "df = pd.read_csv(url)"
     ],
     "language": "python",
     "metadata": {
      "internals": {
       "frag_helper": "fragment_end",
       "frag_number": 26
      },
      "slideshow": {
       "slide_type": "-"
      },
      "trusted": true
     },
     "outputs": [
      {
       "output_type": "stream",
       "stream": "stderr",
       "text": [
        "/Users/jakevdp/anaconda/lib/python2.7/site-packages/pandas/io/parsers.py:1139: DtypeWarning: Columns (18,29,38,41,60,96) have mixed types. Specify dtype option on import or set low_memory=False.\n",
        "  data = self._reader.read(nrows)\n"
       ]
      }
     ],
     "prompt_number": 20
    },
    {
     "cell_type": "code",
     "collapsed": false,
     "input": [
      "df = pd.read_csv(url, low_memory=False)"
     ],
     "language": "python",
     "metadata": {
      "internals": {
       "frag_helper": "fragment_end",
       "frag_number": 36,
       "slide_helper": "subslide_end"
      },
      "slide_helper": "slide_end",
      "slideshow": {
       "slide_type": "fragment"
      },
      "trusted": true
     },
     "outputs": [],
     "prompt_number": 21
    },
    {
     "cell_type": "markdown",
     "metadata": {
      "internals": {
       "frag_helper": "fragment_end",
       "frag_number": 36,
       "slide_type": "subslide"
      },
      "slideshow": {
       "slide_type": "slide"
      }
     },
     "source": [
      "# what's in `df`?"
     ]
    },
    {
     "cell_type": "code",
     "collapsed": false,
     "input": [
      "df"
     ],
     "language": "python",
     "metadata": {
      "internals": {
       "frag_helper": "fragment_end",
       "frag_number": 38,
       "slide_helper": "subslide_end"
      },
      "slide_helper": "slide_end",
      "slideshow": {
       "slide_type": "fragment"
      },
      "trusted": true
     },
     "outputs": [
      {
       "html": [
        "<div style=\"max-height:1000px;max-width:1500px;overflow:auto;\">\n",
        "<table border=\"1\" class=\"dataframe\">\n",
        "  <thead>\n",
        "    <tr style=\"text-align: right;\">\n",
        "      <th></th>\n",
        "      <th>site</th>\n",
        "      <th>module</th>\n",
        "      <th>gs_code34</th>\n",
        "      <th>gs_text34</th>\n",
        "      <th>va34</th>\n",
        "      <th>gs_code46</th>\n",
        "      <th>gs_text46</th>\n",
        "      <th>va46</th>\n",
        "      <th>gs_code55</th>\n",
        "      <th>gs_text55</th>\n",
        "      <th>...</th>\n",
        "      <th>word_woman</th>\n",
        "      <th>word_womb</th>\n",
        "      <th>word_worri</th>\n",
        "      <th>word_wors</th>\n",
        "      <th>word_worsen</th>\n",
        "      <th>word_worst</th>\n",
        "      <th>word_wound</th>\n",
        "      <th>word_xray</th>\n",
        "      <th>word_yellow</th>\n",
        "      <th>newid</th>\n",
        "    </tr>\n",
        "  </thead>\n",
        "  <tbody>\n",
        "    <tr>\n",
        "      <th>0   </th>\n",
        "      <td> Mexico</td>\n",
        "      <td> Adult</td>\n",
        "      <td>  K71</td>\n",
        "      <td>                     Cirrhosis</td>\n",
        "      <td>  6</td>\n",
        "      <td>  K71</td>\n",
        "      <td>                     Cirrhosis</td>\n",
        "      <td>  8</td>\n",
        "      <td>  K71</td>\n",
        "      <td>                     Cirrhosis</td>\n",
        "      <td>...</td>\n",
        "      <td> 0</td>\n",
        "      <td> 0</td>\n",
        "      <td> 0</td>\n",
        "      <td> 0</td>\n",
        "      <td> 0</td>\n",
        "      <td> 0</td>\n",
        "      <td> 0</td>\n",
        "      <td> 0</td>\n",
        "      <td> 0</td>\n",
        "      <td>    1</td>\n",
        "    </tr>\n",
        "    <tr>\n",
        "      <th>1   </th>\n",
        "      <td>     AP</td>\n",
        "      <td> Adult</td>\n",
        "      <td>  G40</td>\n",
        "      <td>                      Epilepsy</td>\n",
        "      <td> 12</td>\n",
        "      <td>  G40</td>\n",
        "      <td>                      Epilepsy</td>\n",
        "      <td> 16</td>\n",
        "      <td>  G40</td>\n",
        "      <td>                      Epilepsy</td>\n",
        "      <td>...</td>\n",
        "      <td> 0</td>\n",
        "      <td> 0</td>\n",
        "      <td> 0</td>\n",
        "      <td> 0</td>\n",
        "      <td> 0</td>\n",
        "      <td> 0</td>\n",
        "      <td> 0</td>\n",
        "      <td> 0</td>\n",
        "      <td> 0</td>\n",
        "      <td>    2</td>\n",
        "    </tr>\n",
        "    <tr>\n",
        "      <th>2   </th>\n",
        "      <td>     AP</td>\n",
        "      <td> Adult</td>\n",
        "      <td>  J12</td>\n",
        "      <td>                     Pneumonia</td>\n",
        "      <td> 26</td>\n",
        "      <td>  J12</td>\n",
        "      <td>                     Pneumonia</td>\n",
        "      <td> 37</td>\n",
        "      <td>  J12</td>\n",
        "      <td>                     Pneumonia</td>\n",
        "      <td>...</td>\n",
        "      <td> 0</td>\n",
        "      <td> 0</td>\n",
        "      <td> 0</td>\n",
        "      <td> 0</td>\n",
        "      <td> 0</td>\n",
        "      <td> 0</td>\n",
        "      <td> 0</td>\n",
        "      <td> 0</td>\n",
        "      <td> 0</td>\n",
        "      <td>    3</td>\n",
        "    </tr>\n",
        "    <tr>\n",
        "      <th>3   </th>\n",
        "      <td> Mexico</td>\n",
        "      <td> Adult</td>\n",
        "      <td>  J33</td>\n",
        "      <td>                          COPD</td>\n",
        "      <td>  8</td>\n",
        "      <td>  J33</td>\n",
        "      <td>                          COPD</td>\n",
        "      <td> 10</td>\n",
        "      <td>  J33</td>\n",
        "      <td>                          COPD</td>\n",
        "      <td>...</td>\n",
        "      <td> 0</td>\n",
        "      <td> 0</td>\n",
        "      <td> 0</td>\n",
        "      <td> 0</td>\n",
        "      <td> 0</td>\n",
        "      <td> 0</td>\n",
        "      <td> 0</td>\n",
        "      <td> 0</td>\n",
        "      <td> 0</td>\n",
        "      <td>    4</td>\n",
        "    </tr>\n",
        "    <tr>\n",
        "      <th>...</th>\n",
        "      <td>...</td>\n",
        "      <td>...</td>\n",
        "      <td>...</td>\n",
        "      <td>...</td>\n",
        "      <td>...</td>\n",
        "      <td>...</td>\n",
        "      <td>...</td>\n",
        "      <td>...</td>\n",
        "      <td>...</td>\n",
        "      <td>...</td>\n",
        "      <td>...</td>\n",
        "      <td>...</td>\n",
        "      <td>...</td>\n",
        "      <td>...</td>\n",
        "      <td>...</td>\n",
        "      <td>...</td>\n",
        "      <td>...</td>\n",
        "      <td>...</td>\n",
        "      <td>...</td>\n",
        "      <td>...</td>\n",
        "      <td>...</td>\n",
        "    </tr>\n",
        "    <tr>\n",
        "      <th>7837</th>\n",
        "      <td>    Dar</td>\n",
        "      <td> Adult</td>\n",
        "      <td> ZZ23</td>\n",
        "      <td> Other Cardiovascular Diseases</td>\n",
        "      <td> 22</td>\n",
        "      <td> ZZ23</td>\n",
        "      <td> Other Cardiovascular Diseases</td>\n",
        "      <td> 31</td>\n",
        "      <td> ZZ23</td>\n",
        "      <td> Other Cardiovascular Diseases</td>\n",
        "      <td>...</td>\n",
        "      <td> 0</td>\n",
        "      <td> 0</td>\n",
        "      <td> 0</td>\n",
        "      <td> 0</td>\n",
        "      <td> 0</td>\n",
        "      <td> 0</td>\n",
        "      <td> 0</td>\n",
        "      <td> 0</td>\n",
        "      <td> 0</td>\n",
        "      <td> 7843</td>\n",
        "    </tr>\n",
        "    <tr>\n",
        "      <th>7838</th>\n",
        "      <td>     AP</td>\n",
        "      <td> Adult</td>\n",
        "      <td>  T36</td>\n",
        "      <td>                    Poisonings</td>\n",
        "      <td> 27</td>\n",
        "      <td>  T36</td>\n",
        "      <td>                    Poisonings</td>\n",
        "      <td> 38</td>\n",
        "      <td>  T36</td>\n",
        "      <td>                    Poisonings</td>\n",
        "      <td>...</td>\n",
        "      <td> 0</td>\n",
        "      <td> 0</td>\n",
        "      <td> 0</td>\n",
        "      <td> 0</td>\n",
        "      <td> 0</td>\n",
        "      <td> 0</td>\n",
        "      <td> 0</td>\n",
        "      <td> 0</td>\n",
        "      <td> 0</td>\n",
        "      <td> 7844</td>\n",
        "    </tr>\n",
        "    <tr>\n",
        "      <th>7839</th>\n",
        "      <td>     UP</td>\n",
        "      <td> Adult</td>\n",
        "      <td>  X09</td>\n",
        "      <td>                         Fires</td>\n",
        "      <td> 15</td>\n",
        "      <td>  X09</td>\n",
        "      <td>                         Fires</td>\n",
        "      <td> 19</td>\n",
        "      <td>  X09</td>\n",
        "      <td>                         Fires</td>\n",
        "      <td>...</td>\n",
        "      <td> 0</td>\n",
        "      <td> 0</td>\n",
        "      <td> 0</td>\n",
        "      <td> 0</td>\n",
        "      <td> 0</td>\n",
        "      <td> 0</td>\n",
        "      <td> 0</td>\n",
        "      <td> 0</td>\n",
        "      <td> 0</td>\n",
        "      <td> 7845</td>\n",
        "    </tr>\n",
        "    <tr>\n",
        "      <th>7840</th>\n",
        "      <td>    Dar</td>\n",
        "      <td> Adult</td>\n",
        "      <td>  C15</td>\n",
        "      <td>             Esophageal Cancer</td>\n",
        "      <td> 13</td>\n",
        "      <td>  C15</td>\n",
        "      <td>             Esophageal Cancer</td>\n",
        "      <td> 17</td>\n",
        "      <td>  C15</td>\n",
        "      <td>             Esophageal Cancer</td>\n",
        "      <td>...</td>\n",
        "      <td> 0</td>\n",
        "      <td> 0</td>\n",
        "      <td> 0</td>\n",
        "      <td> 0</td>\n",
        "      <td> 0</td>\n",
        "      <td> 0</td>\n",
        "      <td> 0</td>\n",
        "      <td> 0</td>\n",
        "      <td> 0</td>\n",
        "      <td> 7846</td>\n",
        "    </tr>\n",
        "  </tbody>\n",
        "</table>\n",
        "<p>7841 rows \u00d7 946 columns</p>\n",
        "</div>"
       ],
       "metadata": {},
       "output_type": "pyout",
       "prompt_number": 22,
       "text": [
        "        site module gs_code34                      gs_text34  va34 gs_code46  \\\n",
        "0     Mexico  Adult       K71                      Cirrhosis     6       K71   \n",
        "1         AP  Adult       G40                       Epilepsy    12       G40   \n",
        "2         AP  Adult       J12                      Pneumonia    26       J12   \n",
        "3     Mexico  Adult       J33                           COPD     8       J33   \n",
        "...      ...    ...       ...                            ...   ...       ...   \n",
        "7837     Dar  Adult      ZZ23  Other Cardiovascular Diseases    22      ZZ23   \n",
        "7838      AP  Adult       T36                     Poisonings    27       T36   \n",
        "7839      UP  Adult       X09                          Fires    15       X09   \n",
        "7840     Dar  Adult       C15              Esophageal Cancer    13       C15   \n",
        "\n",
        "                          gs_text46  va46 gs_code55  \\\n",
        "0                         Cirrhosis     8       K71   \n",
        "1                          Epilepsy    16       G40   \n",
        "2                         Pneumonia    37       J12   \n",
        "3                              COPD    10       J33   \n",
        "...                             ...   ...       ...   \n",
        "7837  Other Cardiovascular Diseases    31      ZZ23   \n",
        "7838                     Poisonings    38       T36   \n",
        "7839                          Fires    19       X09   \n",
        "7840              Esophageal Cancer    17       C15   \n",
        "\n",
        "                          gs_text55              ...                \\\n",
        "0                         Cirrhosis              ...                 \n",
        "1                          Epilepsy              ...                 \n",
        "2                         Pneumonia              ...                 \n",
        "3                              COPD              ...                 \n",
        "...                             ...              ...                 \n",
        "7837  Other Cardiovascular Diseases              ...                 \n",
        "7838                     Poisonings              ...                 \n",
        "7839                          Fires              ...                 \n",
        "7840              Esophageal Cancer              ...                 \n",
        "\n",
        "      word_woman word_womb word_worri word_wors word_worsen word_worst  \\\n",
        "0              0         0          0         0           0          0   \n",
        "1              0         0          0         0           0          0   \n",
        "2              0         0          0         0           0          0   \n",
        "3              0         0          0         0           0          0   \n",
        "...          ...       ...        ...       ...         ...        ...   \n",
        "7837           0         0          0         0           0          0   \n",
        "7838           0         0          0         0           0          0   \n",
        "7839           0         0          0         0           0          0   \n",
        "7840           0         0          0         0           0          0   \n",
        "\n",
        "     word_wound word_xray word_yellow newid  \n",
        "0             0         0           0     1  \n",
        "1             0         0           0     2  \n",
        "2             0         0           0     3  \n",
        "3             0         0           0     4  \n",
        "...         ...       ...         ...   ...  \n",
        "7837          0         0           0  7843  \n",
        "7838          0         0           0  7844  \n",
        "7839          0         0           0  7845  \n",
        "7840          0         0           0  7846  \n",
        "\n",
        "[7841 rows x 946 columns]"
       ]
      }
     ],
     "prompt_number": 22
    },
    {
     "cell_type": "code",
     "collapsed": true,
     "input": [
      "# also load codebook (excel doc)\n",
      "url = 'http://ghdx.healthdata.org/sites/default/files/'\\\n",
      "      'record-attached-files/IHME_PHMRC_VA_DATA_CODEBOOK_Y2013M09D11_0.xlsx'\n",
      "cb = pd.read_excel(url)"
     ],
     "language": "python",
     "metadata": {
      "internals": {
       "frag_helper": "fragment_end",
       "frag_number": 38,
       "slide_type": "subslide"
      },
      "slideshow": {
       "slide_type": "slide"
      },
      "trusted": true
     },
     "outputs": [],
     "prompt_number": 23
    },
    {
     "cell_type": "code",
     "collapsed": false,
     "input": [
      "cb.head()"
     ],
     "language": "python",
     "metadata": {
      "internals": {
       "frag_helper": "fragment_end",
       "frag_number": 38,
       "slide_helper": "subslide_end"
      },
      "slide_helper": "slide_end",
      "slideshow": {
       "slide_type": "-"
      },
      "trusted": true
     },
     "outputs": [
      {
       "html": [
        "<div style=\"max-height:1000px;max-width:1500px;overflow:auto;\">\n",
        "<table border=\"1\" class=\"dataframe\">\n",
        "  <thead>\n",
        "    <tr style=\"text-align: right;\">\n",
        "      <th></th>\n",
        "      <th>variable</th>\n",
        "      <th>question</th>\n",
        "      <th>module</th>\n",
        "      <th>health_care_experience</th>\n",
        "      <th>coding</th>\n",
        "    </tr>\n",
        "  </thead>\n",
        "  <tbody>\n",
        "    <tr>\n",
        "      <th>0</th>\n",
        "      <td>         site</td>\n",
        "      <td>                                Site</td>\n",
        "      <td> General</td>\n",
        "      <td> 0</td>\n",
        "      <td> NaN</td>\n",
        "    </tr>\n",
        "    <tr>\n",
        "      <th>1</th>\n",
        "      <td>        newid</td>\n",
        "      <td>                            Study ID</td>\n",
        "      <td> General</td>\n",
        "      <td> 0</td>\n",
        "      <td> NaN</td>\n",
        "    </tr>\n",
        "    <tr>\n",
        "      <th>2</th>\n",
        "      <td> gs_diagnosis</td>\n",
        "      <td>        Gold Standard Diagnosis Code</td>\n",
        "      <td> General</td>\n",
        "      <td> 0</td>\n",
        "      <td> NaN</td>\n",
        "    </tr>\n",
        "    <tr>\n",
        "      <th>3</th>\n",
        "      <td> gs_comorbid1</td>\n",
        "      <td> Gold Standard Comorbid Conditions 1</td>\n",
        "      <td> General</td>\n",
        "      <td> 0</td>\n",
        "      <td> NaN</td>\n",
        "    </tr>\n",
        "    <tr>\n",
        "      <th>4</th>\n",
        "      <td> gs_comorbid2</td>\n",
        "      <td> Gold Standard Comorbid Conditions 2</td>\n",
        "      <td> General</td>\n",
        "      <td> 0</td>\n",
        "      <td> NaN</td>\n",
        "    </tr>\n",
        "  </tbody>\n",
        "</table>\n",
        "</div>"
       ],
       "metadata": {},
       "output_type": "pyout",
       "prompt_number": 27,
       "text": [
        "       variable                             question   module  \\\n",
        "0          site                                 Site  General   \n",
        "1         newid                             Study ID  General   \n",
        "2  gs_diagnosis         Gold Standard Diagnosis Code  General   \n",
        "3  gs_comorbid1  Gold Standard Comorbid Conditions 1  General   \n",
        "4  gs_comorbid2  Gold Standard Comorbid Conditions 2  General   \n",
        "\n",
        "   health_care_experience coding  \n",
        "0                       0    NaN  \n",
        "1                       0    NaN  \n",
        "2                       0    NaN  \n",
        "3                       0    NaN  \n",
        "4                       0    NaN  "
       ]
      }
     ],
     "prompt_number": 27
    },
    {
     "cell_type": "markdown",
     "metadata": {
      "internals": {
       "frag_helper": "fragment_end",
       "frag_number": 38,
       "slide_type": "subslide"
      },
      "slideshow": {
       "slide_type": "slide"
      }
     },
     "source": [
      "# using tabular data"
     ]
    },
    {
     "cell_type": "code",
     "collapsed": false,
     "input": [
      "# each column of pd.DataFrame is a pd.Series\n",
      "cb.module"
     ],
     "language": "python",
     "metadata": {
      "internals": {
       "frag_helper": "fragment_end",
       "frag_number": 42
      },
      "slideshow": {
       "slide_type": "fragment"
      },
      "trusted": true
     },
     "outputs": [
      {
       "metadata": {},
       "output_type": "pyout",
       "prompt_number": 29,
       "text": [
        "0    General\n",
        "1    General\n",
        "...\n",
        "1647    Neonate\n",
        "1648    Neonate\n",
        "Name: module, Length: 1649, dtype: object"
       ]
      }
     ],
     "prompt_number": 29
    },
    {
     "cell_type": "code",
     "collapsed": false,
     "input": [
      "# can uses square-brackets instead of \"dot\"\n",
      "# (useful if column name has spaces!)\n",
      "cb.iloc[3, 3]"
     ],
     "language": "python",
     "metadata": {
      "internals": {
       "frag_helper": "fragment_end",
       "frag_number": 43,
       "slide_helper": "subslide_end"
      },
      "slide_helper": "slide_end",
      "slideshow": {
       "slide_type": "fragment"
      },
      "trusted": true
     },
     "outputs": [
      {
       "metadata": {},
       "output_type": "pyout",
       "prompt_number": 44,
       "text": [
        "0"
       ]
      }
     ],
     "prompt_number": 44
    },
    {
     "cell_type": "code",
     "collapsed": false,
     "input": [
      "# what's in this series?\n",
      "cb.module.value_counts()"
     ],
     "language": "python",
     "metadata": {
      "internals": {
       "frag_helper": "fragment_end",
       "frag_number": 43,
       "slide_helper": "subslide_end",
       "slide_type": "subslide"
      },
      "slide_helper": "slide_end",
      "slideshow": {
       "slide_type": "slide"
      },
      "trusted": true
     },
     "outputs": [
      {
       "metadata": {},
       "output_type": "pyout",
       "prompt_number": 45,
       "text": [
        "Adult      902\n",
        "Child      466\n",
        "Neonate    218\n",
        "General     63\n",
        "dtype: int64"
       ]
      }
     ],
     "prompt_number": 45
    },
    {
     "cell_type": "code",
     "collapsed": false,
     "input": [
      "# accessing individual cells\n",
      "df.head()"
     ],
     "language": "python",
     "metadata": {
      "internals": {
       "frag_helper": "fragment_end",
       "frag_number": 43,
       "slide_type": "subslide"
      },
      "slideshow": {
       "slide_type": "slide"
      },
      "trusted": true
     },
     "outputs": [
      {
       "html": [
        "<div style=\"max-height:1000px;max-width:1500px;overflow:auto;\">\n",
        "<table border=\"1\" class=\"dataframe\">\n",
        "  <thead>\n",
        "    <tr style=\"text-align: right;\">\n",
        "      <th></th>\n",
        "      <th>site</th>\n",
        "      <th>module</th>\n",
        "      <th>gs_code34</th>\n",
        "      <th>gs_text34</th>\n",
        "      <th>va34</th>\n",
        "      <th>gs_code46</th>\n",
        "      <th>gs_text46</th>\n",
        "      <th>va46</th>\n",
        "      <th>gs_code55</th>\n",
        "      <th>gs_text55</th>\n",
        "      <th>...</th>\n",
        "      <th>word_woman</th>\n",
        "      <th>word_womb</th>\n",
        "      <th>word_worri</th>\n",
        "      <th>word_wors</th>\n",
        "      <th>word_worsen</th>\n",
        "      <th>word_worst</th>\n",
        "      <th>word_wound</th>\n",
        "      <th>word_xray</th>\n",
        "      <th>word_yellow</th>\n",
        "      <th>newid</th>\n",
        "    </tr>\n",
        "  </thead>\n",
        "  <tbody>\n",
        "    <tr>\n",
        "      <th>0</th>\n",
        "      <td> Mexico</td>\n",
        "      <td> Adult</td>\n",
        "      <td> K71</td>\n",
        "      <td>                   Cirrhosis</td>\n",
        "      <td>  6</td>\n",
        "      <td> K71</td>\n",
        "      <td>                   Cirrhosis</td>\n",
        "      <td>  8</td>\n",
        "      <td> K71</td>\n",
        "      <td>                   Cirrhosis</td>\n",
        "      <td>...</td>\n",
        "      <td> 0</td>\n",
        "      <td> 0</td>\n",
        "      <td> 0</td>\n",
        "      <td> 0</td>\n",
        "      <td> 0</td>\n",
        "      <td> 0</td>\n",
        "      <td> 0</td>\n",
        "      <td> 0</td>\n",
        "      <td> 0</td>\n",
        "      <td> 1</td>\n",
        "    </tr>\n",
        "    <tr>\n",
        "      <th>1</th>\n",
        "      <td>     AP</td>\n",
        "      <td> Adult</td>\n",
        "      <td> G40</td>\n",
        "      <td>                    Epilepsy</td>\n",
        "      <td> 12</td>\n",
        "      <td> G40</td>\n",
        "      <td>                    Epilepsy</td>\n",
        "      <td> 16</td>\n",
        "      <td> G40</td>\n",
        "      <td>                    Epilepsy</td>\n",
        "      <td>...</td>\n",
        "      <td> 0</td>\n",
        "      <td> 0</td>\n",
        "      <td> 0</td>\n",
        "      <td> 0</td>\n",
        "      <td> 0</td>\n",
        "      <td> 0</td>\n",
        "      <td> 0</td>\n",
        "      <td> 0</td>\n",
        "      <td> 0</td>\n",
        "      <td> 2</td>\n",
        "    </tr>\n",
        "    <tr>\n",
        "      <th>2</th>\n",
        "      <td>     AP</td>\n",
        "      <td> Adult</td>\n",
        "      <td> J12</td>\n",
        "      <td>                   Pneumonia</td>\n",
        "      <td> 26</td>\n",
        "      <td> J12</td>\n",
        "      <td>                   Pneumonia</td>\n",
        "      <td> 37</td>\n",
        "      <td> J12</td>\n",
        "      <td>                   Pneumonia</td>\n",
        "      <td>...</td>\n",
        "      <td> 0</td>\n",
        "      <td> 0</td>\n",
        "      <td> 0</td>\n",
        "      <td> 0</td>\n",
        "      <td> 0</td>\n",
        "      <td> 0</td>\n",
        "      <td> 0</td>\n",
        "      <td> 0</td>\n",
        "      <td> 0</td>\n",
        "      <td> 3</td>\n",
        "    </tr>\n",
        "    <tr>\n",
        "      <th>3</th>\n",
        "      <td> Mexico</td>\n",
        "      <td> Adult</td>\n",
        "      <td> J33</td>\n",
        "      <td>                        COPD</td>\n",
        "      <td>  8</td>\n",
        "      <td> J33</td>\n",
        "      <td>                        COPD</td>\n",
        "      <td> 10</td>\n",
        "      <td> J33</td>\n",
        "      <td>                        COPD</td>\n",
        "      <td>...</td>\n",
        "      <td> 0</td>\n",
        "      <td> 0</td>\n",
        "      <td> 0</td>\n",
        "      <td> 0</td>\n",
        "      <td> 0</td>\n",
        "      <td> 0</td>\n",
        "      <td> 0</td>\n",
        "      <td> 0</td>\n",
        "      <td> 0</td>\n",
        "      <td> 4</td>\n",
        "    </tr>\n",
        "    <tr>\n",
        "      <th>4</th>\n",
        "      <td>     UP</td>\n",
        "      <td> Adult</td>\n",
        "      <td> I21</td>\n",
        "      <td> Acute Myocardial Infarction</td>\n",
        "      <td> 17</td>\n",
        "      <td> I21</td>\n",
        "      <td> Acute Myocardial Infarction</td>\n",
        "      <td> 23</td>\n",
        "      <td> I21</td>\n",
        "      <td> Acute Myocardial Infarction</td>\n",
        "      <td>...</td>\n",
        "      <td> 0</td>\n",
        "      <td> 0</td>\n",
        "      <td> 0</td>\n",
        "      <td> 0</td>\n",
        "      <td> 0</td>\n",
        "      <td> 0</td>\n",
        "      <td> 0</td>\n",
        "      <td> 0</td>\n",
        "      <td> 0</td>\n",
        "      <td> 5</td>\n",
        "    </tr>\n",
        "  </tbody>\n",
        "</table>\n",
        "<p>5 rows \u00d7 946 columns</p>\n",
        "</div>"
       ],
       "metadata": {},
       "output_type": "pyout",
       "prompt_number": 46,
       "text": [
        "     site module gs_code34                    gs_text34  va34 gs_code46  \\\n",
        "0  Mexico  Adult       K71                    Cirrhosis     6       K71   \n",
        "1      AP  Adult       G40                     Epilepsy    12       G40   \n",
        "2      AP  Adult       J12                    Pneumonia    26       J12   \n",
        "3  Mexico  Adult       J33                         COPD     8       J33   \n",
        "4      UP  Adult       I21  Acute Myocardial Infarction    17       I21   \n",
        "\n",
        "                     gs_text46  va46 gs_code55                    gs_text55  \\\n",
        "0                    Cirrhosis     8       K71                    Cirrhosis   \n",
        "1                     Epilepsy    16       G40                     Epilepsy   \n",
        "2                    Pneumonia    37       J12                    Pneumonia   \n",
        "3                         COPD    10       J33                         COPD   \n",
        "4  Acute Myocardial Infarction    23       I21  Acute Myocardial Infarction   \n",
        "\n",
        "              ...               word_woman word_womb word_worri word_wors  \\\n",
        "0             ...                        0         0          0         0   \n",
        "1             ...                        0         0          0         0   \n",
        "2             ...                        0         0          0         0   \n",
        "3             ...                        0         0          0         0   \n",
        "4             ...                        0         0          0         0   \n",
        "\n",
        "  word_worsen word_worst word_wound word_xray word_yellow newid  \n",
        "0           0          0          0         0           0     1  \n",
        "1           0          0          0         0           0     2  \n",
        "2           0          0          0         0           0     3  \n",
        "3           0          0          0         0           0     4  \n",
        "4           0          0          0         0           0     5  \n",
        "\n",
        "[5 rows x 946 columns]"
       ]
      }
     ],
     "prompt_number": 46
    },
    {
     "cell_type": "code",
     "collapsed": false,
     "input": [
      "# to access by row and column\n",
      "# can use names\n",
      "df.loc[4, 'gs_text34']"
     ],
     "language": "python",
     "metadata": {
      "internals": {
       "frag_helper": "fragment_end",
       "frag_number": 46
      },
      "slideshow": {
       "slide_type": "fragment"
      },
      "trusted": true
     },
     "outputs": [
      {
       "metadata": {},
       "output_type": "pyout",
       "prompt_number": 47,
       "text": [
        "'Acute Myocardial Infarction'"
       ]
      }
     ],
     "prompt_number": 47
    },
    {
     "cell_type": "code",
     "collapsed": false,
     "input": [
      "# or use numbers\n",
      "df.iloc[4, 3]"
     ],
     "language": "python",
     "metadata": {
      "internals": {
       "frag_helper": "fragment_end",
       "frag_number": 47
      },
      "slideshow": {
       "slide_type": "fragment"
      },
      "trusted": true
     },
     "outputs": [
      {
       "metadata": {},
       "output_type": "pyout",
       "prompt_number": 48,
       "text": [
        "'Acute Myocardial Infarction'"
       ]
      }
     ],
     "prompt_number": 48
    },
    {
     "cell_type": "code",
     "collapsed": false,
     "input": [
      "# same because columns 3 is gs_text\n",
      "# how to check?\n",
      "df.columns[3]"
     ],
     "language": "python",
     "metadata": {
      "internals": {
       "frag_helper": "fragment_end",
       "frag_number": 48
      },
      "slideshow": {
       "slide_type": "fragment"
      },
      "trusted": true
     },
     "outputs": [
      {
       "metadata": {},
       "output_type": "pyout",
       "prompt_number": 49,
       "text": [
        "'gs_text34'"
       ]
      }
     ],
     "prompt_number": 49
    },
    {
     "cell_type": "markdown",
     "metadata": {
      "internals": {
       "frag_helper": "fragment_end",
       "frag_number": 49,
       "slide_helper": "subslide_end"
      },
      "slide_helper": "slide_end",
      "slideshow": {
       "slide_type": "fragment"
      }
     },
     "source": [
      "# improve this example"
     ]
    },
    {
     "cell_type": "code",
     "collapsed": false,
     "input": [
      "df.head()"
     ],
     "language": "python",
     "metadata": {
      "internals": {
       "frag_helper": "fragment_end",
       "frag_number": 49,
       "slide_type": "subslide"
      },
      "slideshow": {
       "slide_type": "slide"
      },
      "trusted": true
     },
     "outputs": [
      {
       "html": [
        "<div style=\"max-height:1000px;max-width:1500px;overflow:auto;\">\n",
        "<table border=\"1\" class=\"dataframe\">\n",
        "  <thead>\n",
        "    <tr style=\"text-align: right;\">\n",
        "      <th></th>\n",
        "      <th>site</th>\n",
        "      <th>module</th>\n",
        "      <th>gs_code34</th>\n",
        "      <th>gs_text34</th>\n",
        "      <th>va34</th>\n",
        "      <th>gs_code46</th>\n",
        "      <th>gs_text46</th>\n",
        "      <th>va46</th>\n",
        "      <th>gs_code55</th>\n",
        "      <th>gs_text55</th>\n",
        "      <th>...</th>\n",
        "      <th>word_woman</th>\n",
        "      <th>word_womb</th>\n",
        "      <th>word_worri</th>\n",
        "      <th>word_wors</th>\n",
        "      <th>word_worsen</th>\n",
        "      <th>word_worst</th>\n",
        "      <th>word_wound</th>\n",
        "      <th>word_xray</th>\n",
        "      <th>word_yellow</th>\n",
        "      <th>newid</th>\n",
        "    </tr>\n",
        "  </thead>\n",
        "  <tbody>\n",
        "    <tr>\n",
        "      <th>0</th>\n",
        "      <td> Mexico</td>\n",
        "      <td> Adult</td>\n",
        "      <td> K71</td>\n",
        "      <td>                   Cirrhosis</td>\n",
        "      <td>  6</td>\n",
        "      <td> K71</td>\n",
        "      <td>                   Cirrhosis</td>\n",
        "      <td>  8</td>\n",
        "      <td> K71</td>\n",
        "      <td>                   Cirrhosis</td>\n",
        "      <td>...</td>\n",
        "      <td> 0</td>\n",
        "      <td> 0</td>\n",
        "      <td> 0</td>\n",
        "      <td> 0</td>\n",
        "      <td> 0</td>\n",
        "      <td> 0</td>\n",
        "      <td> 0</td>\n",
        "      <td> 0</td>\n",
        "      <td> 0</td>\n",
        "      <td> 1</td>\n",
        "    </tr>\n",
        "    <tr>\n",
        "      <th>1</th>\n",
        "      <td>     AP</td>\n",
        "      <td> Adult</td>\n",
        "      <td> G40</td>\n",
        "      <td>                    Epilepsy</td>\n",
        "      <td> 12</td>\n",
        "      <td> G40</td>\n",
        "      <td>                    Epilepsy</td>\n",
        "      <td> 16</td>\n",
        "      <td> G40</td>\n",
        "      <td>                    Epilepsy</td>\n",
        "      <td>...</td>\n",
        "      <td> 0</td>\n",
        "      <td> 0</td>\n",
        "      <td> 0</td>\n",
        "      <td> 0</td>\n",
        "      <td> 0</td>\n",
        "      <td> 0</td>\n",
        "      <td> 0</td>\n",
        "      <td> 0</td>\n",
        "      <td> 0</td>\n",
        "      <td> 2</td>\n",
        "    </tr>\n",
        "    <tr>\n",
        "      <th>2</th>\n",
        "      <td>     AP</td>\n",
        "      <td> Adult</td>\n",
        "      <td> J12</td>\n",
        "      <td>                   Pneumonia</td>\n",
        "      <td> 26</td>\n",
        "      <td> J12</td>\n",
        "      <td>                   Pneumonia</td>\n",
        "      <td> 37</td>\n",
        "      <td> J12</td>\n",
        "      <td>                   Pneumonia</td>\n",
        "      <td>...</td>\n",
        "      <td> 0</td>\n",
        "      <td> 0</td>\n",
        "      <td> 0</td>\n",
        "      <td> 0</td>\n",
        "      <td> 0</td>\n",
        "      <td> 0</td>\n",
        "      <td> 0</td>\n",
        "      <td> 0</td>\n",
        "      <td> 0</td>\n",
        "      <td> 3</td>\n",
        "    </tr>\n",
        "    <tr>\n",
        "      <th>3</th>\n",
        "      <td> Mexico</td>\n",
        "      <td> Adult</td>\n",
        "      <td> J33</td>\n",
        "      <td>                        COPD</td>\n",
        "      <td>  8</td>\n",
        "      <td> J33</td>\n",
        "      <td>                        COPD</td>\n",
        "      <td> 10</td>\n",
        "      <td> J33</td>\n",
        "      <td>                        COPD</td>\n",
        "      <td>...</td>\n",
        "      <td> 0</td>\n",
        "      <td> 0</td>\n",
        "      <td> 0</td>\n",
        "      <td> 0</td>\n",
        "      <td> 0</td>\n",
        "      <td> 0</td>\n",
        "      <td> 0</td>\n",
        "      <td> 0</td>\n",
        "      <td> 0</td>\n",
        "      <td> 4</td>\n",
        "    </tr>\n",
        "    <tr>\n",
        "      <th>4</th>\n",
        "      <td>     UP</td>\n",
        "      <td> Adult</td>\n",
        "      <td> I21</td>\n",
        "      <td> Acute Myocardial Infarction</td>\n",
        "      <td> 17</td>\n",
        "      <td> I21</td>\n",
        "      <td> Acute Myocardial Infarction</td>\n",
        "      <td> 23</td>\n",
        "      <td> I21</td>\n",
        "      <td> Acute Myocardial Infarction</td>\n",
        "      <td>...</td>\n",
        "      <td> 0</td>\n",
        "      <td> 0</td>\n",
        "      <td> 0</td>\n",
        "      <td> 0</td>\n",
        "      <td> 0</td>\n",
        "      <td> 0</td>\n",
        "      <td> 0</td>\n",
        "      <td> 0</td>\n",
        "      <td> 0</td>\n",
        "      <td> 5</td>\n",
        "    </tr>\n",
        "  </tbody>\n",
        "</table>\n",
        "<p>5 rows \u00d7 946 columns</p>\n",
        "</div>"
       ],
       "metadata": {},
       "output_type": "pyout",
       "prompt_number": 50,
       "text": [
        "     site module gs_code34                    gs_text34  va34 gs_code46  \\\n",
        "0  Mexico  Adult       K71                    Cirrhosis     6       K71   \n",
        "1      AP  Adult       G40                     Epilepsy    12       G40   \n",
        "2      AP  Adult       J12                    Pneumonia    26       J12   \n",
        "3  Mexico  Adult       J33                         COPD     8       J33   \n",
        "4      UP  Adult       I21  Acute Myocardial Infarction    17       I21   \n",
        "\n",
        "                     gs_text46  va46 gs_code55                    gs_text55  \\\n",
        "0                    Cirrhosis     8       K71                    Cirrhosis   \n",
        "1                     Epilepsy    16       G40                     Epilepsy   \n",
        "2                    Pneumonia    37       J12                    Pneumonia   \n",
        "3                         COPD    10       J33                         COPD   \n",
        "4  Acute Myocardial Infarction    23       I21  Acute Myocardial Infarction   \n",
        "\n",
        "              ...               word_woman word_womb word_worri word_wors  \\\n",
        "0             ...                        0         0          0         0   \n",
        "1             ...                        0         0          0         0   \n",
        "2             ...                        0         0          0         0   \n",
        "3             ...                        0         0          0         0   \n",
        "4             ...                        0         0          0         0   \n",
        "\n",
        "  word_worsen word_worst word_wound word_xray word_yellow newid  \n",
        "0           0          0          0         0           0     1  \n",
        "1           0          0          0         0           0     2  \n",
        "2           0          0          0         0           0     3  \n",
        "3           0          0          0         0           0     4  \n",
        "4           0          0          0         0           0     5  \n",
        "\n",
        "[5 rows x 946 columns]"
       ]
      }
     ],
     "prompt_number": 50
    },
    {
     "cell_type": "code",
     "collapsed": true,
     "input": [
      "# make the row names more interesting than numbers starting from zero\n",
      "df.index = ['person %d'%(i+1) for i in df.index]"
     ],
     "language": "python",
     "metadata": {
      "internals": {
       "frag_helper": "fragment_end",
       "frag_number": 51
      },
      "slideshow": {
       "slide_type": "fragment"
      },
      "trusted": true
     },
     "outputs": [],
     "prompt_number": 51
    },
    {
     "cell_type": "code",
     "collapsed": false,
     "input": [
      "# have a look at the first ten rows and first five columns\n",
      "df.iloc[:10, :5]"
     ],
     "language": "python",
     "metadata": {
      "internals": {
       "frag_helper": "fragment_end",
       "frag_number": 52,
       "slide_helper": "subslide_end"
      },
      "slide_helper": "slide_end",
      "slideshow": {
       "slide_type": "fragment"
      },
      "trusted": true
     },
     "outputs": [
      {
       "html": [
        "<div style=\"max-height:1000px;max-width:1500px;overflow:auto;\">\n",
        "<table border=\"1\" class=\"dataframe\">\n",
        "  <thead>\n",
        "    <tr style=\"text-align: right;\">\n",
        "      <th></th>\n",
        "      <th>site</th>\n",
        "      <th>module</th>\n",
        "      <th>gs_code34</th>\n",
        "      <th>gs_text34</th>\n",
        "      <th>va34</th>\n",
        "    </tr>\n",
        "  </thead>\n",
        "  <tbody>\n",
        "    <tr>\n",
        "      <th>person 1</th>\n",
        "      <td> Mexico</td>\n",
        "      <td> Adult</td>\n",
        "      <td> K71</td>\n",
        "      <td>     Cirrhosis</td>\n",
        "      <td>  6</td>\n",
        "    </tr>\n",
        "    <tr>\n",
        "      <th>person 2</th>\n",
        "      <td>     AP</td>\n",
        "      <td> Adult</td>\n",
        "      <td> G40</td>\n",
        "      <td>      Epilepsy</td>\n",
        "      <td> 12</td>\n",
        "    </tr>\n",
        "    <tr>\n",
        "      <th>person 3</th>\n",
        "      <td>     AP</td>\n",
        "      <td> Adult</td>\n",
        "      <td> J12</td>\n",
        "      <td>     Pneumonia</td>\n",
        "      <td> 26</td>\n",
        "    </tr>\n",
        "    <tr>\n",
        "      <th>person 4</th>\n",
        "      <td> Mexico</td>\n",
        "      <td> Adult</td>\n",
        "      <td> J33</td>\n",
        "      <td>          COPD</td>\n",
        "      <td>  8</td>\n",
        "    </tr>\n",
        "    <tr>\n",
        "      <th>...</th>\n",
        "      <td>...</td>\n",
        "      <td>...</td>\n",
        "      <td>...</td>\n",
        "      <td>...</td>\n",
        "      <td>...</td>\n",
        "    </tr>\n",
        "    <tr>\n",
        "      <th>person 7</th>\n",
        "      <td>    Dar</td>\n",
        "      <td> Adult</td>\n",
        "      <td> N17</td>\n",
        "      <td> Renal Failure</td>\n",
        "      <td> 29</td>\n",
        "    </tr>\n",
        "    <tr>\n",
        "      <th>person 8</th>\n",
        "      <td>    Dar</td>\n",
        "      <td> Adult</td>\n",
        "      <td> B20</td>\n",
        "      <td>          AIDS</td>\n",
        "      <td>  1</td>\n",
        "    </tr>\n",
        "    <tr>\n",
        "      <th>person 9</th>\n",
        "      <td>  Bohol</td>\n",
        "      <td> Adult</td>\n",
        "      <td> C34</td>\n",
        "      <td>   Lung Cancer</td>\n",
        "      <td> 19</td>\n",
        "    </tr>\n",
        "    <tr>\n",
        "      <th>person 10</th>\n",
        "      <td>     UP</td>\n",
        "      <td> Adult</td>\n",
        "      <td> O67</td>\n",
        "      <td>      Maternal</td>\n",
        "      <td> 21</td>\n",
        "    </tr>\n",
        "  </tbody>\n",
        "</table>\n",
        "<p>10 rows \u00d7 5 columns</p>\n",
        "</div>"
       ],
       "metadata": {},
       "output_type": "pyout",
       "prompt_number": 52,
       "text": [
        "             site module gs_code34      gs_text34  va34\n",
        "person 1   Mexico  Adult       K71      Cirrhosis     6\n",
        "person 2       AP  Adult       G40       Epilepsy    12\n",
        "person 3       AP  Adult       J12      Pneumonia    26\n",
        "person 4   Mexico  Adult       J33           COPD     8\n",
        "...           ...    ...       ...            ...   ...\n",
        "person 7      Dar  Adult       N17  Renal Failure    29\n",
        "person 8      Dar  Adult       B20           AIDS     1\n",
        "person 9    Bohol  Adult       C34    Lung Cancer    19\n",
        "person 10      UP  Adult       O67       Maternal    21\n",
        "\n",
        "[10 rows x 5 columns]"
       ]
      }
     ],
     "prompt_number": 52
    },
    {
     "cell_type": "code",
     "collapsed": false,
     "input": [
      "# slicing with named indices is possible, too\n",
      "df.loc['person 10', 'site':'gs_text34']"
     ],
     "language": "python",
     "metadata": {
      "internals": {
       "frag_helper": "fragment_end",
       "frag_number": 52,
       "slide_type": "subslide"
      },
      "slideshow": {
       "slide_type": "slide"
      },
      "trusted": true
     },
     "outputs": [
      {
       "metadata": {},
       "output_type": "pyout",
       "prompt_number": 53,
       "text": [
        "site               UP\n",
        "module          Adult\n",
        "gs_code34         O67\n",
        "gs_text34    Maternal\n",
        "Name: person 10, dtype: object"
       ]
      }
     ],
     "prompt_number": 53
    },
    {
     "cell_type": "markdown",
     "metadata": {
      "internals": {
       "frag_helper": "fragment_end",
       "frag_number": 54,
       "slide_helper": "subslide_end"
      },
      "slide_helper": "slide_end",
      "slideshow": {
       "slide_type": "fragment"
      }
     },
     "source": [
      "notice anything weird about that, though?"
     ]
    },
    {
     "cell_type": "markdown",
     "metadata": {
      "internals": {
       "frag_helper": "fragment_end",
       "frag_number": 54,
       "slide_helper": "subslide_end",
       "slide_type": "subslide"
      },
      "slide_helper": "slide_end",
      "slideshow": {
       "slide_type": "slide"
      }
     },
     "source": [
      "# what else can we do?"
     ]
    },
    {
     "cell_type": "code",
     "collapsed": false,
     "input": [
      "# logical operations (element-wise)\n",
      "df.module == \"Adult\""
     ],
     "language": "python",
     "metadata": {
      "internals": {
       "frag_helper": "fragment_end",
       "frag_number": 54,
       "slide_type": "subslide"
      },
      "slideshow": {
       "slide_type": "slide"
      },
      "trusted": true
     },
     "outputs": [
      {
       "metadata": {},
       "output_type": "pyout",
       "prompt_number": 54,
       "text": [
        "person 1    True\n",
        "person 2    True\n",
        "...\n",
        "person 7840    True\n",
        "person 7841    True\n",
        "Name: module, Length: 7841, dtype: bool"
       ]
      }
     ],
     "prompt_number": 54
    },
    {
     "cell_type": "code",
     "collapsed": false,
     "input": [
      "# usefule for selecting subset of rows\n",
      "dfa = df[df.module == \"Adult\"]"
     ],
     "language": "python",
     "metadata": {
      "internals": {
       "frag_helper": "fragment_end",
       "frag_number": 57,
       "slide_helper": "subslide_end"
      },
      "slide_helper": "slide_end",
      "slideshow": {
       "slide_type": "fragment"
      },
      "trusted": true
     },
     "outputs": [],
     "prompt_number": 55
    },
    {
     "cell_type": "code",
     "collapsed": false,
     "input": [
      "# summarize\n",
      "dfa.va34.describe(percentiles=[.025,.975])"
     ],
     "language": "python",
     "metadata": {
      "internals": {
       "frag_helper": "fragment_end",
       "frag_number": 57,
       "slide_helper": "subslide_end",
       "slide_type": "subslide"
      },
      "slide_helper": "slide_end",
      "slideshow": {
       "slide_type": "slide"
      },
      "trusted": true
     },
     "outputs": [
      {
       "metadata": {},
       "output_type": "pyout",
       "prompt_number": 56,
       "text": [
        "count    7841.000000\n",
        "mean       18.998342\n",
        "std         9.929374\n",
        "min         1.000000\n",
        "2.5%        1.000000\n",
        "50%        21.000000\n",
        "97.5%      34.000000\n",
        "max        34.000000\n",
        "dtype: float64"
       ]
      }
     ],
     "prompt_number": 56
    },
    {
     "cell_type": "code",
     "collapsed": false,
     "input": [
      "# percent of occurrences\n",
      "100 * dfa.gs_text34.value_counts(normalize=True).round(3)"
     ],
     "language": "python",
     "metadata": {
      "internals": {
       "frag_helper": "fragment_end",
       "frag_number": 57,
       "slide_helper": "subslide_end",
       "slide_type": "subslide"
      },
      "slide_helper": "slide_end",
      "slideshow": {
       "slide_type": "slide"
      },
      "trusted": true
     },
     "outputs": [
      {
       "metadata": {},
       "output_type": "pyout",
       "prompt_number": 57,
       "text": [
        "Stroke                             8.0\n",
        "Other Non-communicable Diseases    7.6\n",
        "...\n",
        "Asthma               0.6\n",
        "Esophageal Cancer    0.5\n",
        "Length: 34, dtype: float64"
       ]
      }
     ],
     "prompt_number": 57
    },
    {
     "cell_type": "code",
     "collapsed": false,
     "input": [
      "# calculate average\n",
      "dfa.word_fever.mean()"
     ],
     "language": "python",
     "metadata": {
      "internals": {
       "frag_helper": "fragment_end",
       "frag_number": 57,
       "slide_helper": "subslide_end",
       "slide_type": "subslide"
      },
      "slide_helper": "slide_end",
      "slideshow": {
       "slide_type": "slide"
      },
      "trusted": true
     },
     "outputs": [
      {
       "metadata": {},
       "output_type": "pyout",
       "prompt_number": 58,
       "text": [
        "0.18339497513072311"
       ]
      }
     ],
     "prompt_number": 58
    },
    {
     "cell_type": "code",
     "collapsed": false,
     "input": [
      "# create visual summaries\n",
      "dfa.site.value_counts(ascending=True).plot(kind='barh', figsize=(12,8))"
     ],
     "language": "python",
     "metadata": {
      "internals": {
       "frag_helper": "fragment_end",
       "frag_number": 57,
       "slide_helper": "subslide_end",
       "slide_type": "subslide"
      },
      "slide_helper": "slide_end",
      "slideshow": {
       "slide_type": "slide"
      },
      "trusted": true
     },
     "outputs": [
      {
       "metadata": {},
       "output_type": "pyout",
       "prompt_number": 59,
       "text": [
        "<matplotlib.axes._subplots.AxesSubplot at 0x10a56eb50>"
       ]
      },
      {
       "metadata": {},
       "output_type": "display_data",
       "png": "[encoded data removed]",
       "text": [
        "<matplotlib.figure.Figure at 0x10a55d210>"
       ]
      }
     ],
     "prompt_number": 59
    },
    {
     "cell_type": "markdown",
     "metadata": {
      "internals": {
       "frag_helper": "fragment_end",
       "frag_number": 57,
       "slide_type": "subslide"
      },
      "slideshow": {
       "slide_type": "slide"
      }
     },
     "source": [
      "# `pandas.DataFrame.GroupBy`"
     ]
    },
    {
     "cell_type": "code",
     "collapsed": false,
     "input": [
      "df.groupby('gs_text34')"
     ],
     "language": "python",
     "metadata": {
      "internals": {
       "frag_helper": "fragment_end",
       "frag_number": 57
      },
      "slideshow": {
       "slide_type": "-"
      },
      "trusted": true
     },
     "outputs": [
      {
       "metadata": {},
       "output_type": "pyout",
       "prompt_number": 60,
       "text": [
        "<pandas.core.groupby.DataFrameGroupBy object at 0x10a55d310>"
       ]
      }
     ],
     "prompt_number": 60
    },
    {
     "cell_type": "code",
     "collapsed": false,
     "input": [
      "df.word_activ"
     ],
     "language": "python",
     "metadata": {},
     "outputs": []
    },
    {
     "cell_type": "code",
     "collapsed": false,
     "input": [
      "df.groupby('gs_text34').word_fever.mean()"
     ],
     "language": "python",
     "metadata": {
      "internals": {
       "frag_helper": "fragment_end",
       "frag_number": 64,
       "slide_helper": "subslide_end"
      },
      "slide_helper": "slide_end",
      "slideshow": {
       "slide_type": "fragment"
      },
      "trusted": true
     },
     "outputs": [
      {
       "metadata": {},
       "output_type": "pyout",
       "prompt_number": 61,
       "text": [
        "gs_text34\n",
        "AIDS                           0.284861\n",
        "Acute Myocardial Infarction    0.135000\n",
        "...\n",
        "Suicide      0.032258\n",
        "TB           0.192029\n",
        "Name: word_fever, Length: 34, dtype: float64"
       ]
      }
     ],
     "prompt_number": 61
    },
    {
     "cell_type": "code",
     "collapsed": false,
     "input": [
      "(dfa.groupby('gs_text34').word_activ.mean() * 100).order().plot(kind='barh', figsize=(12,12))"
     ],
     "language": "python",
     "metadata": {
      "internals": {
       "frag_helper": "fragment_end",
       "frag_number": 64,
       "slide_helper": "subslide_end",
       "slide_type": "subslide"
      },
      "slide_helper": "slide_end",
      "slideshow": {
       "slide_type": "slide"
      },
      "trusted": true
     },
     "outputs": [
      {
       "metadata": {},
       "output_type": "pyout",
       "prompt_number": 64,
       "text": [
        "<matplotlib.axes._subplots.AxesSubplot at 0x10bcce3d0>"
       ]
      },
      {
       "metadata": {},
       "output_type": "display_data",
       "png": "[encoded data removed]",
       "text": [
        "<matplotlib.figure.Figure at 0x10a778450>"
       ]
      }
     ],
     "prompt_number": 64
    },
    {
     "cell_type": "markdown",
     "metadata": {
      "internals": {
       "frag_helper": "fragment_end",
       "frag_number": 64,
       "slide_helper": "subslide_end",
       "slide_type": "subslide"
      },
      "slide_helper": "slide_end",
      "slideshow": {
       "slide_type": "slide"
      }
     },
     "source": [
      "# reshaping tables"
     ]
    },
    {
     "cell_type": "code",
     "collapsed": false,
     "input": [
      "df.filter(like='word').head()"
     ],
     "language": "python",
     "metadata": {
      "internals": {
       "frag_helper": "fragment_end",
       "frag_number": 64,
       "slide_helper": "subslide_end",
       "slide_type": "subslide"
      },
      "slide_helper": "slide_end",
      "slideshow": {
       "slide_type": "slide"
      },
      "trusted": true
     },
     "outputs": [
      {
       "html": [
        "<div style=\"max-height:1000px;max-width:1500px;overflow:auto;\">\n",
        "<table border=\"1\" class=\"dataframe\">\n",
        "  <thead>\n",
        "    <tr style=\"text-align: right;\">\n",
        "      <th></th>\n",
        "      <th>word_abdomen</th>\n",
        "      <th>word_abl</th>\n",
        "      <th>word_accid</th>\n",
        "      <th>word_accord</th>\n",
        "      <th>word_ach</th>\n",
        "      <th>word_acidosi</th>\n",
        "      <th>word_acquir</th>\n",
        "      <th>word_activ</th>\n",
        "      <th>word_acut</th>\n",
        "      <th>word_add</th>\n",
        "      <th>...</th>\n",
        "      <th>word_wit</th>\n",
        "      <th>word_woman</th>\n",
        "      <th>word_womb</th>\n",
        "      <th>word_worri</th>\n",
        "      <th>word_wors</th>\n",
        "      <th>word_worsen</th>\n",
        "      <th>word_worst</th>\n",
        "      <th>word_wound</th>\n",
        "      <th>word_xray</th>\n",
        "      <th>word_yellow</th>\n",
        "    </tr>\n",
        "  </thead>\n",
        "  <tbody>\n",
        "    <tr>\n",
        "      <th>person 1</th>\n",
        "      <td> 0</td>\n",
        "      <td> 0</td>\n",
        "      <td> 0</td>\n",
        "      <td> 0</td>\n",
        "      <td> 0</td>\n",
        "      <td> 0</td>\n",
        "      <td> 0</td>\n",
        "      <td> 0</td>\n",
        "      <td> 0</td>\n",
        "      <td> 0</td>\n",
        "      <td>...</td>\n",
        "      <td> 0</td>\n",
        "      <td> 0</td>\n",
        "      <td> 0</td>\n",
        "      <td> 0</td>\n",
        "      <td> 0</td>\n",
        "      <td> 0</td>\n",
        "      <td> 0</td>\n",
        "      <td> 0</td>\n",
        "      <td> 0</td>\n",
        "      <td> 0</td>\n",
        "    </tr>\n",
        "    <tr>\n",
        "      <th>person 2</th>\n",
        "      <td> 0</td>\n",
        "      <td> 0</td>\n",
        "      <td> 0</td>\n",
        "      <td> 0</td>\n",
        "      <td> 0</td>\n",
        "      <td> 0</td>\n",
        "      <td> 0</td>\n",
        "      <td> 0</td>\n",
        "      <td> 0</td>\n",
        "      <td> 0</td>\n",
        "      <td>...</td>\n",
        "      <td> 0</td>\n",
        "      <td> 0</td>\n",
        "      <td> 0</td>\n",
        "      <td> 0</td>\n",
        "      <td> 0</td>\n",
        "      <td> 0</td>\n",
        "      <td> 0</td>\n",
        "      <td> 0</td>\n",
        "      <td> 0</td>\n",
        "      <td> 0</td>\n",
        "    </tr>\n",
        "    <tr>\n",
        "      <th>person 3</th>\n",
        "      <td> 0</td>\n",
        "      <td> 0</td>\n",
        "      <td> 0</td>\n",
        "      <td> 0</td>\n",
        "      <td> 0</td>\n",
        "      <td> 0</td>\n",
        "      <td> 0</td>\n",
        "      <td> 0</td>\n",
        "      <td> 0</td>\n",
        "      <td> 0</td>\n",
        "      <td>...</td>\n",
        "      <td> 0</td>\n",
        "      <td> 0</td>\n",
        "      <td> 0</td>\n",
        "      <td> 0</td>\n",
        "      <td> 0</td>\n",
        "      <td> 0</td>\n",
        "      <td> 0</td>\n",
        "      <td> 0</td>\n",
        "      <td> 0</td>\n",
        "      <td> 0</td>\n",
        "    </tr>\n",
        "    <tr>\n",
        "      <th>person 4</th>\n",
        "      <td> 0</td>\n",
        "      <td> 0</td>\n",
        "      <td> 0</td>\n",
        "      <td> 0</td>\n",
        "      <td> 0</td>\n",
        "      <td> 0</td>\n",
        "      <td> 0</td>\n",
        "      <td> 0</td>\n",
        "      <td> 0</td>\n",
        "      <td> 0</td>\n",
        "      <td>...</td>\n",
        "      <td> 0</td>\n",
        "      <td> 0</td>\n",
        "      <td> 0</td>\n",
        "      <td> 0</td>\n",
        "      <td> 0</td>\n",
        "      <td> 0</td>\n",
        "      <td> 0</td>\n",
        "      <td> 0</td>\n",
        "      <td> 0</td>\n",
        "      <td> 0</td>\n",
        "    </tr>\n",
        "    <tr>\n",
        "      <th>person 5</th>\n",
        "      <td> 0</td>\n",
        "      <td> 0</td>\n",
        "      <td> 0</td>\n",
        "      <td> 0</td>\n",
        "      <td> 0</td>\n",
        "      <td> 0</td>\n",
        "      <td> 0</td>\n",
        "      <td> 0</td>\n",
        "      <td> 0</td>\n",
        "      <td> 0</td>\n",
        "      <td>...</td>\n",
        "      <td> 0</td>\n",
        "      <td> 0</td>\n",
        "      <td> 0</td>\n",
        "      <td> 0</td>\n",
        "      <td> 0</td>\n",
        "      <td> 0</td>\n",
        "      <td> 0</td>\n",
        "      <td> 0</td>\n",
        "      <td> 0</td>\n",
        "      <td> 0</td>\n",
        "    </tr>\n",
        "  </tbody>\n",
        "</table>\n",
        "<p>5 rows \u00d7 679 columns</p>\n",
        "</div>"
       ],
       "metadata": {},
       "output_type": "pyout",
       "prompt_number": 63,
       "text": [
        "          word_abdomen  word_abl  word_accid  word_accord  word_ach  \\\n",
        "person 1             0         0           0            0         0   \n",
        "person 2             0         0           0            0         0   \n",
        "person 3             0         0           0            0         0   \n",
        "person 4             0         0           0            0         0   \n",
        "person 5             0         0           0            0         0   \n",
        "\n",
        "          word_acidosi  word_acquir  word_activ  word_acut  word_add  \\\n",
        "person 1             0            0           0          0         0   \n",
        "person 2             0            0           0          0         0   \n",
        "person 3             0            0           0          0         0   \n",
        "person 4             0            0           0          0         0   \n",
        "person 5             0            0           0          0         0   \n",
        "\n",
        "            ...     word_wit  word_woman  word_womb  word_worri  word_wors  \\\n",
        "person 1    ...            0           0          0           0          0   \n",
        "person 2    ...            0           0          0           0          0   \n",
        "person 3    ...            0           0          0           0          0   \n",
        "person 4    ...            0           0          0           0          0   \n",
        "person 5    ...            0           0          0           0          0   \n",
        "\n",
        "          word_worsen  word_worst  word_wound  word_xray  word_yellow  \n",
        "person 1            0           0           0          0            0  \n",
        "person 2            0           0           0          0            0  \n",
        "person 3            0           0           0          0            0  \n",
        "person 4            0           0           0          0            0  \n",
        "person 5            0           0           0          0            0  \n",
        "\n",
        "[5 rows x 679 columns]"
       ]
      }
     ],
     "prompt_number": 63
    },
    {
     "cell_type": "code",
     "collapsed": false,
     "input": [
      "# get a smaller table to experiment with\n",
      "t = df.filter(like='word').describe()\n",
      "t"
     ],
     "language": "python",
     "metadata": {
      "internals": {
       "frag_helper": "fragment_end",
       "frag_number": 64,
       "slide_type": "subslide"
      },
      "slideshow": {
       "slide_type": "slide"
      },
      "trusted": true
     },
     "outputs": []
    },
    {
     "cell_type": "code",
     "collapsed": false,
     "input": [
      "# transpose table\n",
      "t.T.head()"
     ],
     "language": "python",
     "metadata": {
      "internals": {
       "frag_helper": "fragment_end",
       "frag_number": 64,
       "slide_helper": "subslide_end"
      },
      "slide_helper": "slide_end",
      "slideshow": {
       "slide_type": "-"
      },
      "trusted": true
     },
     "outputs": []
    },
    {
     "cell_type": "code",
     "collapsed": false,
     "input": [
      "# convert from \"wide\" to \"long\"\n",
      "t_long = t.T.stack()\n",
      "t_long"
     ],
     "language": "python",
     "metadata": {
      "internals": {
       "frag_helper": "fragment_end",
       "frag_number": 64,
       "slide_helper": "subslide_end",
       "slide_type": "subslide"
      },
      "slide_helper": "slide_end",
      "slideshow": {
       "slide_type": "slide"
      },
      "trusted": true
     },
     "outputs": []
    },
    {
     "cell_type": "code",
     "collapsed": false,
     "input": [
      "# convert back\n",
      "t_long.unstack()"
     ],
     "language": "python",
     "metadata": {
      "internals": {
       "frag_helper": "fragment_end",
       "frag_number": 64,
       "slide_helper": "subslide_end",
       "slide_type": "subslide"
      },
      "slide_helper": "slide_end",
      "slideshow": {
       "slide_type": "slide"
      },
      "trusted": true
     },
     "outputs": []
    },
    {
     "cell_type": "code",
     "collapsed": false,
     "input": [
      "# challenge: find the most common word"
     ],
     "language": "python",
     "metadata": {
      "internals": {
       "frag_helper": "fragment_end",
       "frag_number": 64,
       "slide_helper": "subslide_end",
       "slide_type": "subslide"
      },
      "slide_helper": "slide_end",
      "slideshow": {
       "slide_type": "slide"
      },
      "trusted": true
     },
     "outputs": []
    },
    {
     "cell_type": "markdown",
     "metadata": {
      "internals": {
       "frag_helper": "fragment_end",
       "frag_number": 64,
       "slide_type": "subslide"
      },
      "slideshow": {
       "slide_type": "slide"
      }
     },
     "source": [
      "# `pandas.pivot_table`"
     ]
    },
    {
     "cell_type": "code",
     "collapsed": false,
     "input": [
      "df.head()"
     ],
     "language": "python",
     "metadata": {
      "internals": {
       "frag_helper": "fragment_end",
       "frag_number": 64
      },
      "slideshow": {
       "slide_type": "-"
      },
      "trusted": true
     },
     "outputs": []
    },
    {
     "cell_type": "code",
     "collapsed": false,
     "input": [
      "piv = pd.pivot_table(df, values='word_fever',\n",
      "                     index=['site'], columns=['gs_text34'],\n",
      "                     aggfunc=sum)\n",
      "piv"
     ],
     "language": "python",
     "metadata": {
      "internals": {
       "frag_helper": "fragment_end",
       "frag_number": 64,
       "slide_helper": "subslide_end"
      },
      "slide_helper": "slide_end",
      "slideshow": {
       "slide_type": "-"
      },
      "trusted": true
     },
     "outputs": []
    },
    {
     "cell_type": "markdown",
     "metadata": {
      "internals": {
       "frag_helper": "fragment_end",
       "frag_number": 64,
       "slide_type": "subslide"
      },
      "slideshow": {
       "slide_type": "slide"
      }
     },
     "source": [
      "# inverse-pivot-tables: `pandas.melt`"
     ]
    },
    {
     "cell_type": "code",
     "collapsed": false,
     "input": [
      "causes = list(piv.columns)\n",
      "piv['site'] = piv.index\n",
      "fever_cnts = pd.melt(piv, id_vars=['site'], value_vars=causes,\n",
      "        var_name='cause of death',\n",
      "        value_name='number w fever mentioned')\n",
      "fever_cnts.head()"
     ],
     "language": "python",
     "metadata": {
      "internals": {
       "frag_helper": "fragment_end",
       "frag_number": 64,
       "slide_helper": "subslide_end"
      },
      "slide_helper": "slide_end",
      "slideshow": {
       "slide_type": "-"
      },
      "trusted": true
     },
     "outputs": []
    },
    {
     "cell_type": "code",
     "collapsed": false,
     "input": [
      "# cleaner to drop the rows with NaNs\n",
      "fever_cnts.dropna().head()"
     ],
     "language": "python",
     "metadata": {
      "internals": {
       "frag_helper": "fragment_end",
       "frag_number": 64,
       "slide_helper": "subslide_end",
       "slide_type": "subslide"
      },
      "slide_helper": "slide_end",
      "slideshow": {
       "slide_type": "slide"
      },
      "trusted": true
     },
     "outputs": []
    },
    {
     "cell_type": "markdown",
     "metadata": {
      "internals": {
       "frag_helper": "fragment_end",
       "frag_number": 64,
       "slide_type": "subslide"
      },
      "slideshow": {
       "slide_type": "slide"
      }
     },
     "source": [
      "# appending `DataFrames`"
     ]
    },
    {
     "cell_type": "code",
     "collapsed": false,
     "input": [
      "# put together first three and last three rows of df\n",
      "df.iloc[:3].append(df.iloc[-3:])"
     ],
     "language": "python",
     "metadata": {
      "internals": {
       "frag_helper": "fragment_end",
       "frag_number": 64,
       "slide_helper": "subslide_end"
      },
      "slide_helper": "slide_end",
      "slideshow": {
       "slide_type": "-"
      },
      "trusted": true
     },
     "outputs": []
    },
    {
     "cell_type": "markdown",
     "metadata": {
      "internals": {
       "frag_helper": "fragment_end",
       "frag_number": 64,
       "slide_helper": "subslide_end",
       "slide_type": "subslide"
      },
      "slide_helper": "slide_end",
      "slideshow": {
       "slide_type": "slide"
      }
     },
     "source": [
      "# merging `DataFrames`"
     ]
    },
    {
     "cell_type": "code",
     "collapsed": false,
     "input": [
      "df.iloc[:5,20:25]"
     ],
     "language": "python",
     "metadata": {
      "internals": {
       "frag_helper": "fragment_end",
       "frag_number": 64,
       "slide_helper": "subslide_end",
       "slide_type": "subslide"
      },
      "slide_helper": "slide_end",
      "slideshow": {
       "slide_type": "slide"
      },
      "trusted": true
     },
     "outputs": []
    },
    {
     "cell_type": "code",
     "collapsed": false,
     "input": [
      "cb.iloc[10:15]"
     ],
     "language": "python",
     "metadata": {
      "internals": {
       "frag_helper": "fragment_end",
       "frag_number": 64,
       "slide_helper": "subslide_end",
       "slide_type": "subslide"
      },
      "slide_helper": "slide_end",
      "slideshow": {
       "slide_type": "slide"
      },
      "trusted": true
     },
     "outputs": []
    },
    {
     "cell_type": "markdown",
     "metadata": {
      "internals": {
       "frag_helper": "fragment_end",
       "frag_number": 64,
       "slide_type": "subslide"
      },
      "slideshow": {
       "slide_type": "slide"
      }
     },
     "source": [
      "# merge question text into `df`"
     ]
    },
    {
     "cell_type": "code",
     "collapsed": false,
     "input": [
      "pd.merge("
     ],
     "language": "python",
     "metadata": {
      "internals": {
       "frag_helper": "fragment_end",
       "frag_number": 64,
       "slide_helper": "subslide_end"
      },
      "slide_helper": "slide_end",
      "slideshow": {
       "slide_type": "-"
      },
      "trusted": true
     },
     "outputs": []
    },
    {
     "cell_type": "code",
     "collapsed": false,
     "input": [
      "merged_df = pd.merge(df.T, cb, left_index=True, right_on='variable')\n",
      "merged_df.filter(['variable', 'question', 'person 1', 'person 2']).dropna().head(10)"
     ],
     "language": "python",
     "metadata": {
      "internals": {
       "frag_helper": "fragment_end",
       "frag_number": 64,
       "slide_helper": "subslide_end",
       "slide_type": "subslide"
      },
      "slide_helper": "slide_end",
      "slideshow": {
       "slide_type": "slide"
      },
      "trusted": true
     },
     "outputs": []
    },
    {
     "cell_type": "markdown",
     "metadata": {
      "internals": {
       "frag_helper": "fragment_end",
       "frag_number": 64,
       "slide_type": "subslide"
      },
      "slideshow": {
       "slide_type": "slide"
      }
     },
     "source": [
      "# GroupBy"
     ]
    },
    {
     "cell_type": "code",
     "collapsed": false,
     "input": [
      "df.groupby('gs_text34').word_fever.mean()"
     ],
     "language": "python",
     "metadata": {
      "internals": {
       "frag_helper": "fragment_end",
       "frag_number": 64
      },
      "slideshow": {
       "slide_type": "-"
      },
      "trusted": true
     },
     "outputs": []
    },
    {
     "cell_type": "code",
     "collapsed": false,
     "input": [
      "for g, dfg in df.groupby('gs_text34'):\n",
      "    print g\n",
      "    # process DataFrame for this group\n",
      "    break"
     ],
     "language": "python",
     "metadata": {
      "internals": {
       "frag_helper": "fragment_end",
       "frag_number": 64,
       "slide_helper": "subslide_end"
      },
      "slide_helper": "slide_end",
      "slideshow": {
       "slide_type": "-"
      },
      "trusted": true
     },
     "outputs": []
    },
    {
     "cell_type": "code",
     "collapsed": false,
     "input": [
      "# apply\n",
      "\n",
      "def my_func(row):\n",
      "    return row['word_xray'] > 0\n",
      "\n",
      "my_func(df.iloc[0])\n",
      "\n",
      "df.apply(my_func, axis=1)"
     ],
     "language": "python",
     "metadata": {
      "internals": {
       "frag_helper": "fragment_end",
       "frag_number": 64,
       "slide_helper": "subslide_end",
       "slide_type": "subslide"
      },
      "slide_helper": "slide_end",
      "slideshow": {
       "slide_type": "slide"
      },
      "trusted": true
     },
     "outputs": []
    },
    {
     "cell_type": "markdown",
     "metadata": {
      "internals": {
       "frag_helper": "fragment_end",
       "frag_number": 64,
       "slide_type": "subslide"
      },
      "slideshow": {
       "slide_type": "slide"
      }
     },
     "source": [
      "# [Time-series](http://pandas.pydata.org/pandas-docs/stable/timeseries.html#timeseries)\n"
     ]
    },
    {
     "cell_type": "code",
     "collapsed": true,
     "input": [
      "rng = pd.date_range('1/1/2012', periods=1000, freq='S')"
     ],
     "language": "python",
     "metadata": {
      "internals": {
       "frag_helper": "fragment_end",
       "frag_number": 64
      },
      "slideshow": {
       "slide_type": "-"
      },
      "trusted": true
     },
     "outputs": []
    },
    {
     "cell_type": "code",
     "collapsed": false,
     "input": [
      "rng"
     ],
     "language": "python",
     "metadata": {
      "internals": {
       "frag_helper": "fragment_end",
       "frag_number": 64
      },
      "slideshow": {
       "slide_type": "-"
      },
      "trusted": true
     },
     "outputs": []
    },
    {
     "cell_type": "code",
     "collapsed": false,
     "input": [
      "ts = pd.Series(np.random.randint(0, 500, len(rng)), index=rng)"
     ],
     "language": "python",
     "metadata": {
      "internals": {
       "frag_helper": "fragment_end",
       "frag_number": 64
      },
      "slideshow": {
       "slide_type": "-"
      },
      "trusted": true
     },
     "outputs": []
    },
    {
     "cell_type": "code",
     "collapsed": false,
     "input": [
      "ts.resample('5Min', how='sum')"
     ],
     "language": "python",
     "metadata": {
      "internals": {
       "frag_helper": "fragment_end",
       "frag_number": 95,
       "slide_helper": "subslide_end"
      },
      "slide_helper": "slide_end",
      "slideshow": {
       "slide_type": "fragment"
      },
      "trusted": true
     },
     "outputs": []
    },
    {
     "cell_type": "markdown",
     "metadata": {
      "internals": {
       "frag_helper": "fragment_end",
       "frag_number": 95,
       "slide_type": "subslide"
      },
      "slideshow": {
       "slide_type": "slide"
      }
     },
     "source": [
      "# Exercise\n"
     ]
    },
    {
     "cell_type": "markdown",
     "metadata": {
      "internals": {
       "frag_helper": "fragment_end",
       "frag_number": 95
      },
      "slideshow": {
       "slide_type": "-"
      }
     },
     "source": [
      "# Use the codebook to find the column which corresponds to the question \"Did ____ have a fever?\" "
     ]
    },
    {
     "cell_type": "code",
     "collapsed": false,
     "input": [
      "# in here:\n",
      "cb.head()"
     ],
     "language": "python",
     "metadata": {
      "internals": {
       "frag_helper": "fragment_end",
       "frag_number": 95
      },
      "slideshow": {
       "slide_type": "-"
      },
      "trusted": true
     },
     "outputs": []
    },
    {
     "cell_type": "code",
     "collapsed": false,
     "input": [
      "# hint: look here\n",
      "cb.question.str"
     ],
     "language": "python",
     "metadata": {
      "internals": {
       "frag_helper": "fragment_end",
       "frag_number": 95
      },
      "slideshow": {
       "slide_type": "-"
      },
      "trusted": true
     },
     "outputs": []
    },
    {
     "cell_type": "code",
     "collapsed": false,
     "input": [
      "var = "
     ],
     "language": "python",
     "metadata": {
      "internals": {
       "frag_helper": "fragment_end",
       "frag_number": 95
      },
      "slideshow": {
       "slide_type": "-"
      },
      "trusted": true
     },
     "outputs": []
    },
    {
     "cell_type": "markdown",
     "metadata": {
      "internals": {
       "frag_helper": "fragment_end",
       "frag_number": 95
      },
      "slideshow": {
       "slide_type": "-"
      }
     },
     "source": [
      "\n",
      "The \"endorsement rate\" for a sign or symptom of disease is the fraction of verbal autopsy interviews where the respondent answered \"Yes\" to the question about that sign/symptom."
     ]
    },
    {
     "cell_type": "markdown",
     "metadata": {
      "internals": {
       "frag_helper": "fragment_end",
       "frag_number": 95
      },
      "slideshow": {
       "slide_type": "-"
      }
     },
     "source": [
      "# Find the cause with the highest endorsement rate for the symptom \"fever\" among Adult deaths"
     ]
    },
    {
     "cell_type": "code",
     "collapsed": false,
     "input": [
      "# create a new column with 0/1 values instead of Yes/No/Don't Know/Refused to Answer\n",
      "df['fever'] = df[var] == 'Yes'"
     ],
     "language": "python",
     "metadata": {
      "internals": {
       "frag_helper": "fragment_end",
       "frag_number": 95
      },
      "slideshow": {
       "slide_type": "-"
      },
      "trusted": true
     },
     "outputs": []
    },
    {
     "cell_type": "code",
     "collapsed": false,
     "input": [
      "# use groupby like we did in class"
     ],
     "language": "python",
     "metadata": {
      "internals": {
       "frag_helper": "fragment_end",
       "frag_number": 95
      },
      "slideshow": {
       "slide_type": "-"
      },
      "trusted": true
     },
     "outputs": []
    },
    {
     "cell_type": "markdown",
     "metadata": {
      "internals": {
       "frag_helper": "fragment_end",
       "frag_number": 95
      },
      "slideshow": {
       "slide_type": "-"
      }
     },
     "source": [
      "# Display the cause-specific endorsement rates visually"
     ]
    },
    {
     "cell_type": "code",
     "collapsed": false,
     "input": [
      "import matplotlib.pyplot as plt\n",
      "# do some plotting like we did in class\n",
      "plt.xlabel('Endorsement Rate (%)')"
     ],
     "language": "python",
     "metadata": {
      "internals": {
       "frag_helper": "fragment_end",
       "frag_number": 95
      },
      "slideshow": {
       "slide_type": "-"
      },
      "trusted": true
     },
     "outputs": []
    },
    {
     "cell_type": "markdown",
     "metadata": {
      "internals": {
       "frag_helper": "fragment_end",
       "frag_number": 95
      },
      "slideshow": {
       "slide_type": "-"
      }
     },
     "source": [
      "# Find the question that asks if the deceased had AIDS"
     ]
    },
    {
     "cell_type": "code",
     "collapsed": false,
     "input": [
      "# this might be familiar now..."
     ],
     "language": "python",
     "metadata": {
      "internals": {
       "frag_helper": "fragment_end",
       "frag_number": 95
      },
      "slideshow": {
       "slide_type": "-"
      },
      "trusted": true
     },
     "outputs": []
    },
    {
     "cell_type": "markdown",
     "metadata": {
      "internals": {
       "frag_helper": "fragment_end",
       "frag_number": 95
      },
      "slideshow": {
       "slide_type": "-"
      }
     },
     "source": [
      "# Make a 2x2 table showing the number of adult deceased with and without this question endorsed for decedents with underlying cause AIDS and not AIDS"
     ]
    },
    {
     "cell_type": "code",
     "collapsed": false,
     "input": [
      "# could be good to start by making some numeric columns like above"
     ],
     "language": "python",
     "metadata": {
      "internals": {
       "frag_helper": "fragment_end",
       "frag_number": 95
      },
      "slideshow": {
       "slide_type": "-"
      },
      "trusted": true
     },
     "outputs": []
    },
    {
     "cell_type": "code",
     "collapsed": false,
     "input": [
      "# groupby is a way to go, but not the only way"
     ],
     "language": "python",
     "metadata": {
      "internals": {
       "frag_helper": "fragment_end",
       "frag_number": 95
      },
      "slideshow": {
       "slide_type": "-"
      },
      "trusted": true
     },
     "outputs": []
    },
    {
     "cell_type": "markdown",
     "metadata": {
      "internals": {
       "frag_helper": "fragment_end",
       "frag_number": 95
      },
      "slideshow": {
       "slide_type": "-"
      }
     },
     "source": [
      "# Compare this 2x2 table across study sites"
     ]
    },
    {
     "cell_type": "code",
     "collapsed": false,
     "input": [
      "# note: there are lots of ways to do this\n",
      "# try to find one that is so simple, you will understand it next time you look"
     ],
     "language": "python",
     "metadata": {
      "internals": {
       "frag_helper": "fragment_end",
       "frag_number": 95
      },
      "slideshow": {
       "slide_type": "-"
      },
      "trusted": true
     },
     "outputs": []
    },
    {
     "cell_type": "markdown",
     "metadata": {
      "internals": {
       "frag_helper": "fragment_end",
       "frag_number": 95
      },
      "slideshow": {
       "slide_type": "-"
      }
     },
     "source": [
      "# Now do a series of 2x2 tables comparing the percent of deaths truely due to AIDS for which \"Had AIDS\" question was endorsed"
     ]
    },
    {
     "cell_type": "code",
     "collapsed": true,
     "input": [
      "# some interesting differences. if you want to know why, you might be a social scientist..."
     ],
     "language": "python",
     "metadata": {
      "internals": {
       "frag_helper": "fragment_end",
       "frag_number": 95,
       "slide_helper": "subslide_end"
      },
      "slide_helper": "slide_end",
      "slideshow": {
       "slide_type": "-"
      },
      "trusted": true
     },
     "outputs": []
    }
   ],
   "metadata": {}
  }
 ]
}